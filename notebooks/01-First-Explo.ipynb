{
 "cells": [
  {
   "cell_type": "markdown",
   "metadata": {},
   "source": [
    "# 01 - First Exploration"
   ]
  },
  {
   "cell_type": "markdown",
   "metadata": {},
   "source": [
    "First exploration of the data."
   ]
  },
  {
   "cell_type": "markdown",
   "metadata": {},
   "source": [
    "## Preliminaires "
   ]
  },
  {
   "cell_type": "markdown",
   "metadata": {},
   "source": [
    "### System "
   ]
  },
  {
   "cell_type": "code",
   "execution_count": 1,
   "metadata": {},
   "outputs": [
    {
     "name": "stdout",
     "output_type": "stream",
     "text": [
      "/home/alex/tmp/Global-Biodiversity-Score\n"
     ]
    }
   ],
   "source": [
    "cd ../"
   ]
  },
  {
   "cell_type": "code",
   "execution_count": 2,
   "metadata": {},
   "outputs": [
    {
     "data": {
      "text/plain": [
       "'/home/alex/tmp/Global-Biodiversity-Score'"
      ]
     },
     "execution_count": 2,
     "metadata": {},
     "output_type": "execute_result"
    }
   ],
   "source": [
    "pwd"
   ]
  },
  {
   "cell_type": "markdown",
   "metadata": {},
   "source": [
    "### Imports"
   ]
  },
  {
   "cell_type": "code",
   "execution_count": 3,
   "metadata": {},
   "outputs": [],
   "source": [
    "import os, sys, logging\n",
    "\n",
    "from dataclasses import dataclass"
   ]
  },
  {
   "cell_type": "code",
   "execution_count": 4,
   "metadata": {},
   "outputs": [],
   "source": [
    "from IPython.display import display, HTML"
   ]
  },
  {
   "cell_type": "code",
   "execution_count": 5,
   "metadata": {},
   "outputs": [],
   "source": [
    "import numpy as np\n",
    "import pandas as pd"
   ]
  },
  {
   "cell_type": "code",
   "execution_count": 6,
   "metadata": {},
   "outputs": [],
   "source": [
    "import matplotlib.pyplot as plt\n",
    "import seaborn as sns\n",
    "import plotly.express as px\n",
    "import plotly.graph_objects as go\n",
    "\n",
    "import missingno as msno"
   ]
  },
  {
   "cell_type": "code",
   "execution_count": 7,
   "metadata": {},
   "outputs": [],
   "source": [
    "# from gbs.etl.extract import Extract"
   ]
  },
  {
   "cell_type": "markdown",
   "metadata": {},
   "source": [
    "### Data"
   ]
  },
  {
   "cell_type": "code",
   "execution_count": 8,
   "metadata": {},
   "outputs": [
    {
     "name": "stdout",
     "output_type": "stream",
     "text": [
      "\u001b[01;34m./\u001b[0m\n",
      "├── CHANGELOG.md\n",
      "├── CONTRIBUTING.md\n",
      "├── \u001b[01;34mdata\u001b[0m\n",
      "├── Dockerfile\n",
      "├── \u001b[01;34mdocs\u001b[0m\n",
      "├── \u001b[01;34mgbs\u001b[0m\n",
      "├── LICENSE\n",
      "├── main.py\n",
      "├── \u001b[01;34mnotebooks\u001b[0m\n",
      "├── poetry.lock\n",
      "├── pyproject.toml\n",
      "├── README.md\n",
      "├── \u001b[01;34mressources\u001b[0m\n",
      "└── \u001b[01;34mtests\u001b[0m\n",
      "\n",
      "7 directories, 8 files\n"
     ]
    }
   ],
   "source": [
    "!tree -L 1 ./"
   ]
  },
  {
   "cell_type": "code",
   "execution_count": 9,
   "metadata": {},
   "outputs": [
    {
     "name": "stdout",
     "output_type": "stream",
     "text": [
      "\u001b[01;34mdata/\u001b[0m\n",
      "├── \u001b[01;34mfinal\u001b[0m\n",
      "├── \u001b[01;34msource\u001b[0m\n",
      "│   ├── \u001b[01;34mcountry_specs\u001b[0m\n",
      "│   │   └── country_specs.csv\n",
      "│   ├── \u001b[01;34mcrops\u001b[0m\n",
      "│   │   └── crops.csv\n",
      "│   ├── \u001b[01;34mgdp\u001b[0m\n",
      "│   │   ├── API_NY.GDP.PCAP.CD_DS2_en_csv_v2_6298251.csv\n",
      "│   │   ├── \u001b[01;31mgdp.zip\u001b[0m\n",
      "│   │   ├── Metadata_Country_API_NY.GDP.PCAP.CD_DS2_en_csv_v2_6298251.csv\n",
      "│   │   └── Metadata_Indicator_API_NY.GDP.PCAP.CD_DS2_en_csv_v2_6298251.csv\n",
      "│   ├── \u001b[01;34mpopulation\u001b[0m\n",
      "│   │   ├── API_SP.POP.TOTL_DS2_en_csv_v2_6298256.csv\n",
      "│   │   ├── Metadata_Country_API_SP.POP.TOTL_DS2_en_csv_v2_6298256.csv\n",
      "│   │   ├── Metadata_Indicator_API_SP.POP.TOTL_DS2_en_csv_v2_6298256.csv\n",
      "│   │   └── \u001b[01;31mpopulation.zip\u001b[0m\n",
      "│   └── \u001b[01;34mproduction\u001b[0m\n",
      "│       ├── data_normalized.csv\n",
      "│       ├── production_crops_livestock_e_areacodes.csv\n",
      "│       ├── production_crops_livestock_e_flags.csv\n",
      "│       ├── production_crops_livestock_e_itemcodes.csv\n",
      "│       └── \u001b[01;31mproduction.zip\u001b[0m\n",
      "└── \u001b[01;34mtmp\u001b[0m\n",
      "\n",
      "9 directories, 15 files\n"
     ]
    }
   ],
   "source": [
    "!tree -L 3 data/"
   ]
  },
  {
   "cell_type": "code",
   "execution_count": 11,
   "metadata": {},
   "outputs": [],
   "source": [
    "data_dir = \"./data/source/\""
   ]
  },
  {
   "cell_type": "code",
   "execution_count": 14,
   "metadata": {},
   "outputs": [
    {
     "data": {
      "text/html": [
       "<div>\n",
       "<style scoped>\n",
       "    .dataframe tbody tr th:only-of-type {\n",
       "        vertical-align: middle;\n",
       "    }\n",
       "\n",
       "    .dataframe tbody tr th {\n",
       "        vertical-align: top;\n",
       "    }\n",
       "\n",
       "    .dataframe thead th {\n",
       "        text-align: right;\n",
       "    }\n",
       "</style>\n",
       "<table border=\"1\" class=\"dataframe\">\n",
       "  <thead>\n",
       "    <tr style=\"text-align: right;\">\n",
       "      <th></th>\n",
       "      <th>id</th>\n",
       "      <th>globio_country_code</th>\n",
       "      <th>item_name</th>\n",
       "      <th>item_code</th>\n",
       "      <th>msa_land_use_dynamic</th>\n",
       "      <th>msa_land_use_static</th>\n",
       "      <th>msa_fragmentation_dynamic</th>\n",
       "      <th>msa_fragmentation_static</th>\n",
       "      <th>msa_encroachment_dynamic</th>\n",
       "      <th>msa_encroachment_static</th>\n",
       "      <th>...</th>\n",
       "      <th>msa_aquatic_land_use_wetland_static_wm</th>\n",
       "      <th>msa_aquatic_land_use_wetland_static_cut</th>\n",
       "      <th>msa_aquatic_land_use_wetland_dynamic_wm</th>\n",
       "      <th>msa_aquatic_land_use_wetland_dynamic_cut</th>\n",
       "      <th>msa_aquatic_HD_water_withdrawn_static_wm</th>\n",
       "      <th>msa_aquatic_HD_water_withdrawn_static_cut</th>\n",
       "      <th>msa_aquatic_HD_water_withdrawn_dynamic_wm</th>\n",
       "      <th>msa_aquatic_HD_water_withdrawn_dynamic_cut</th>\n",
       "      <th>msa_aquatic_lakes_eutrophication_static</th>\n",
       "      <th>msa_aquatic_lakes_eutrophication_dynamic</th>\n",
       "    </tr>\n",
       "  </thead>\n",
       "  <tbody>\n",
       "    <tr>\n",
       "      <th>0</th>\n",
       "      <td>1</td>\n",
       "      <td>40</td>\n",
       "      <td>Wheat</td>\n",
       "      <td>15</td>\n",
       "      <td>0.000008</td>\n",
       "      <td>0.001838</td>\n",
       "      <td>0</td>\n",
       "      <td>0.000429</td>\n",
       "      <td>0</td>\n",
       "      <td>0.000573</td>\n",
       "      <td>...</td>\n",
       "      <td>0.000009</td>\n",
       "      <td>0.000009</td>\n",
       "      <td>1.684354e-08</td>\n",
       "      <td>1.710999e-08</td>\n",
       "      <td>1.190762e-07</td>\n",
       "      <td>1.271384e-07</td>\n",
       "      <td>0.0</td>\n",
       "      <td>0.0</td>\n",
       "      <td>0.000028</td>\n",
       "      <td>0.0</td>\n",
       "    </tr>\n",
       "    <tr>\n",
       "      <th>1</th>\n",
       "      <td>2</td>\n",
       "      <td>40</td>\n",
       "      <td>Barley</td>\n",
       "      <td>44</td>\n",
       "      <td>0.000007</td>\n",
       "      <td>0.001591</td>\n",
       "      <td>0</td>\n",
       "      <td>0.000372</td>\n",
       "      <td>0</td>\n",
       "      <td>0.000496</td>\n",
       "      <td>...</td>\n",
       "      <td>0.000008</td>\n",
       "      <td>0.000008</td>\n",
       "      <td>1.457340e-08</td>\n",
       "      <td>1.480394e-08</td>\n",
       "      <td>1.030273e-07</td>\n",
       "      <td>1.100030e-07</td>\n",
       "      <td>0.0</td>\n",
       "      <td>0.0</td>\n",
       "      <td>0.000024</td>\n",
       "      <td>0.0</td>\n",
       "    </tr>\n",
       "    <tr>\n",
       "      <th>2</th>\n",
       "      <td>3</td>\n",
       "      <td>40</td>\n",
       "      <td>Maize</td>\n",
       "      <td>56</td>\n",
       "      <td>0.000004</td>\n",
       "      <td>0.000904</td>\n",
       "      <td>0</td>\n",
       "      <td>0.000211</td>\n",
       "      <td>0</td>\n",
       "      <td>0.000282</td>\n",
       "      <td>...</td>\n",
       "      <td>0.000004</td>\n",
       "      <td>0.000004</td>\n",
       "      <td>8.279003e-09</td>\n",
       "      <td>8.409969e-09</td>\n",
       "      <td>5.852881e-08</td>\n",
       "      <td>6.249160e-08</td>\n",
       "      <td>0.0</td>\n",
       "      <td>0.0</td>\n",
       "      <td>0.000014</td>\n",
       "      <td>0.0</td>\n",
       "    </tr>\n",
       "    <tr>\n",
       "      <th>3</th>\n",
       "      <td>4</td>\n",
       "      <td>40</td>\n",
       "      <td>Rye</td>\n",
       "      <td>71</td>\n",
       "      <td>0.000010</td>\n",
       "      <td>0.002392</td>\n",
       "      <td>0</td>\n",
       "      <td>0.000559</td>\n",
       "      <td>0</td>\n",
       "      <td>0.000746</td>\n",
       "      <td>...</td>\n",
       "      <td>0.000011</td>\n",
       "      <td>0.000012</td>\n",
       "      <td>2.191576e-08</td>\n",
       "      <td>2.226245e-08</td>\n",
       "      <td>1.549345e-07</td>\n",
       "      <td>1.654246e-07</td>\n",
       "      <td>0.0</td>\n",
       "      <td>0.0</td>\n",
       "      <td>0.000036</td>\n",
       "      <td>0.0</td>\n",
       "    </tr>\n",
       "    <tr>\n",
       "      <th>4</th>\n",
       "      <td>5</td>\n",
       "      <td>40</td>\n",
       "      <td>Oats</td>\n",
       "      <td>75</td>\n",
       "      <td>0.000012</td>\n",
       "      <td>0.002715</td>\n",
       "      <td>0</td>\n",
       "      <td>0.000634</td>\n",
       "      <td>0</td>\n",
       "      <td>0.000847</td>\n",
       "      <td>...</td>\n",
       "      <td>0.000013</td>\n",
       "      <td>0.000013</td>\n",
       "      <td>2.487516e-08</td>\n",
       "      <td>2.526866e-08</td>\n",
       "      <td>1.758561e-07</td>\n",
       "      <td>1.877628e-07</td>\n",
       "      <td>0.0</td>\n",
       "      <td>0.0</td>\n",
       "      <td>0.000041</td>\n",
       "      <td>0.0</td>\n",
       "    </tr>\n",
       "  </tbody>\n",
       "</table>\n",
       "<p>5 rows × 30 columns</p>\n",
       "</div>"
      ],
      "text/plain": [
       "   id  globio_country_code item_name item_code  msa_land_use_dynamic  \\\n",
       "0   1                   40     Wheat        15              0.000008   \n",
       "1   2                   40    Barley        44              0.000007   \n",
       "2   3                   40     Maize        56              0.000004   \n",
       "3   4                   40       Rye        71              0.000010   \n",
       "4   5                   40      Oats        75              0.000012   \n",
       "\n",
       "   msa_land_use_static  msa_fragmentation_dynamic  msa_fragmentation_static  \\\n",
       "0             0.001838                          0                  0.000429   \n",
       "1             0.001591                          0                  0.000372   \n",
       "2             0.000904                          0                  0.000211   \n",
       "3             0.002392                          0                  0.000559   \n",
       "4             0.002715                          0                  0.000634   \n",
       "\n",
       "   msa_encroachment_dynamic  msa_encroachment_static  ...  \\\n",
       "0                         0                 0.000573  ...   \n",
       "1                         0                 0.000496  ...   \n",
       "2                         0                 0.000282  ...   \n",
       "3                         0                 0.000746  ...   \n",
       "4                         0                 0.000847  ...   \n",
       "\n",
       "   msa_aquatic_land_use_wetland_static_wm  \\\n",
       "0                                0.000009   \n",
       "1                                0.000008   \n",
       "2                                0.000004   \n",
       "3                                0.000011   \n",
       "4                                0.000013   \n",
       "\n",
       "   msa_aquatic_land_use_wetland_static_cut  \\\n",
       "0                                 0.000009   \n",
       "1                                 0.000008   \n",
       "2                                 0.000004   \n",
       "3                                 0.000012   \n",
       "4                                 0.000013   \n",
       "\n",
       "   msa_aquatic_land_use_wetland_dynamic_wm  \\\n",
       "0                             1.684354e-08   \n",
       "1                             1.457340e-08   \n",
       "2                             8.279003e-09   \n",
       "3                             2.191576e-08   \n",
       "4                             2.487516e-08   \n",
       "\n",
       "   msa_aquatic_land_use_wetland_dynamic_cut  \\\n",
       "0                              1.710999e-08   \n",
       "1                              1.480394e-08   \n",
       "2                              8.409969e-09   \n",
       "3                              2.226245e-08   \n",
       "4                              2.526866e-08   \n",
       "\n",
       "   msa_aquatic_HD_water_withdrawn_static_wm  \\\n",
       "0                              1.190762e-07   \n",
       "1                              1.030273e-07   \n",
       "2                              5.852881e-08   \n",
       "3                              1.549345e-07   \n",
       "4                              1.758561e-07   \n",
       "\n",
       "   msa_aquatic_HD_water_withdrawn_static_cut  \\\n",
       "0                               1.271384e-07   \n",
       "1                               1.100030e-07   \n",
       "2                               6.249160e-08   \n",
       "3                               1.654246e-07   \n",
       "4                               1.877628e-07   \n",
       "\n",
       "   msa_aquatic_HD_water_withdrawn_dynamic_wm  \\\n",
       "0                                        0.0   \n",
       "1                                        0.0   \n",
       "2                                        0.0   \n",
       "3                                        0.0   \n",
       "4                                        0.0   \n",
       "\n",
       "   msa_aquatic_HD_water_withdrawn_dynamic_cut  \\\n",
       "0                                         0.0   \n",
       "1                                         0.0   \n",
       "2                                         0.0   \n",
       "3                                         0.0   \n",
       "4                                         0.0   \n",
       "\n",
       "   msa_aquatic_lakes_eutrophication_static  \\\n",
       "0                                 0.000028   \n",
       "1                                 0.000024   \n",
       "2                                 0.000014   \n",
       "3                                 0.000036   \n",
       "4                                 0.000041   \n",
       "\n",
       "   msa_aquatic_lakes_eutrophication_dynamic  \n",
       "0                                       0.0  \n",
       "1                                       0.0  \n",
       "2                                       0.0  \n",
       "3                                       0.0  \n",
       "4                                       0.0  \n",
       "\n",
       "[5 rows x 30 columns]"
      ]
     },
     "execution_count": 14,
     "metadata": {},
     "output_type": "execute_result"
    }
   ],
   "source": [
    "crops = pd.read_csv(os.path.join(data_dir, \"crops/crops.csv\"))\n",
    "crops.head()"
   ]
  },
  {
   "cell_type": "code",
   "execution_count": 15,
   "metadata": {},
   "outputs": [
    {
     "data": {
      "text/html": [
       "<div>\n",
       "<style scoped>\n",
       "    .dataframe tbody tr th:only-of-type {\n",
       "        vertical-align: middle;\n",
       "    }\n",
       "\n",
       "    .dataframe tbody tr th {\n",
       "        vertical-align: top;\n",
       "    }\n",
       "\n",
       "    .dataframe thead th {\n",
       "        text-align: right;\n",
       "    }\n",
       "</style>\n",
       "<table border=\"1\" class=\"dataframe\">\n",
       "  <thead>\n",
       "    <tr style=\"text-align: right;\">\n",
       "      <th></th>\n",
       "      <th>globio_country_name</th>\n",
       "      <th>globio_country_code</th>\n",
       "      <th>image_region_code</th>\n",
       "      <th>USS30_region_name</th>\n",
       "      <th>alpha_2_code</th>\n",
       "      <th>alpha_3_code</th>\n",
       "      <th>FAO_country_code</th>\n",
       "      <th>FAO_country_name</th>\n",
       "      <th>aquastat_country_name</th>\n",
       "      <th>BGS_country_name</th>\n",
       "      <th>...</th>\n",
       "      <th>exiobase_region_alpha_code</th>\n",
       "      <th>exiobase_region_alpha_code_2</th>\n",
       "      <th>exiobase_region_group_code</th>\n",
       "      <th>exiobase_region_group_name</th>\n",
       "      <th>exiobase_region_id</th>\n",
       "      <th>is_EU27</th>\n",
       "      <th>is_south_america</th>\n",
       "      <th>official_name_in_english</th>\n",
       "      <th>FAO_FRA_country_name</th>\n",
       "      <th>FAO_country_code_terrestrial_irrigation</th>\n",
       "    </tr>\n",
       "  </thead>\n",
       "  <tbody>\n",
       "    <tr>\n",
       "      <th>0</th>\n",
       "      <td>Afghanistan</td>\n",
       "      <td>4</td>\n",
       "      <td>18</td>\n",
       "      <td>Rest S Asia</td>\n",
       "      <td>AF</td>\n",
       "      <td>AFG</td>\n",
       "      <td>2.0</td>\n",
       "      <td>Afghanistan</td>\n",
       "      <td>Afghanistan</td>\n",
       "      <td>Afghanistan</td>\n",
       "      <td>...</td>\n",
       "      <td>WWA</td>\n",
       "      <td>WA</td>\n",
       "      <td>11.0</td>\n",
       "      <td>Rest of World</td>\n",
       "      <td>45.0</td>\n",
       "      <td>NaN</td>\n",
       "      <td>NaN</td>\n",
       "      <td>Islamic State of Afghanistan</td>\n",
       "      <td>Afghanistan</td>\n",
       "      <td>2.0</td>\n",
       "    </tr>\n",
       "    <tr>\n",
       "      <th>1</th>\n",
       "      <td>Albania</td>\n",
       "      <td>8</td>\n",
       "      <td>12</td>\n",
       "      <td>C.Europe</td>\n",
       "      <td>AL</td>\n",
       "      <td>ALB</td>\n",
       "      <td>3.0</td>\n",
       "      <td>Albania</td>\n",
       "      <td>Albania</td>\n",
       "      <td>Albania</td>\n",
       "      <td>...</td>\n",
       "      <td>WWE</td>\n",
       "      <td>WE</td>\n",
       "      <td>11.0</td>\n",
       "      <td>Rest of World</td>\n",
       "      <td>47.0</td>\n",
       "      <td>NaN</td>\n",
       "      <td>NaN</td>\n",
       "      <td>Republic of Albania</td>\n",
       "      <td>Albania (Desk study)</td>\n",
       "      <td>3.0</td>\n",
       "    </tr>\n",
       "    <tr>\n",
       "      <th>2</th>\n",
       "      <td>Algeria</td>\n",
       "      <td>12</td>\n",
       "      <td>7</td>\n",
       "      <td>N.Africa</td>\n",
       "      <td>DZ</td>\n",
       "      <td>DZA</td>\n",
       "      <td>4.0</td>\n",
       "      <td>Algeria</td>\n",
       "      <td>Algeria</td>\n",
       "      <td>Algeria</td>\n",
       "      <td>...</td>\n",
       "      <td>WWF</td>\n",
       "      <td>WF</td>\n",
       "      <td>11.0</td>\n",
       "      <td>Rest of World</td>\n",
       "      <td>48.0</td>\n",
       "      <td>NaN</td>\n",
       "      <td>NaN</td>\n",
       "      <td>People's Democratic Republic of Algeria</td>\n",
       "      <td>Algeria</td>\n",
       "      <td>4.0</td>\n",
       "    </tr>\n",
       "    <tr>\n",
       "      <th>3</th>\n",
       "      <td>American Samoa</td>\n",
       "      <td>16</td>\n",
       "      <td>24</td>\n",
       "      <td>Oceania</td>\n",
       "      <td>AS</td>\n",
       "      <td>ASM</td>\n",
       "      <td>5.0</td>\n",
       "      <td>American Samoa</td>\n",
       "      <td>American Samoa</td>\n",
       "      <td>American Samoa</td>\n",
       "      <td>...</td>\n",
       "      <td>WWA</td>\n",
       "      <td>WA</td>\n",
       "      <td>11.0</td>\n",
       "      <td>Rest of World</td>\n",
       "      <td>45.0</td>\n",
       "      <td>NaN</td>\n",
       "      <td>NaN</td>\n",
       "      <td>American Samoa</td>\n",
       "      <td>American Samoa</td>\n",
       "      <td>5.0</td>\n",
       "    </tr>\n",
       "    <tr>\n",
       "      <th>4</th>\n",
       "      <td>Andorra</td>\n",
       "      <td>20</td>\n",
       "      <td>11</td>\n",
       "      <td>W.Europe</td>\n",
       "      <td>AD</td>\n",
       "      <td>AND</td>\n",
       "      <td>NaN</td>\n",
       "      <td>Andorra</td>\n",
       "      <td>Andorra</td>\n",
       "      <td>Andorra</td>\n",
       "      <td>...</td>\n",
       "      <td>NaN</td>\n",
       "      <td>NaN</td>\n",
       "      <td>NaN</td>\n",
       "      <td>NaN</td>\n",
       "      <td>NaN</td>\n",
       "      <td>NaN</td>\n",
       "      <td>NaN</td>\n",
       "      <td>Principality of Andorra</td>\n",
       "      <td>Andorra</td>\n",
       "      <td>6.0</td>\n",
       "    </tr>\n",
       "  </tbody>\n",
       "</table>\n",
       "<p>5 rows × 22 columns</p>\n",
       "</div>"
      ],
      "text/plain": [
       "  globio_country_name  globio_country_code  image_region_code  \\\n",
       "0         Afghanistan                    4                 18   \n",
       "1             Albania                    8                 12   \n",
       "2             Algeria                   12                  7   \n",
       "3      American Samoa                   16                 24   \n",
       "4             Andorra                   20                 11   \n",
       "\n",
       "  USS30_region_name alpha_2_code alpha_3_code  FAO_country_code  \\\n",
       "0       Rest S Asia           AF          AFG               2.0   \n",
       "1          C.Europe           AL          ALB               3.0   \n",
       "2          N.Africa           DZ          DZA               4.0   \n",
       "3           Oceania           AS          ASM               5.0   \n",
       "4          W.Europe           AD          AND               NaN   \n",
       "\n",
       "  FAO_country_name aquastat_country_name BGS_country_name  ...  \\\n",
       "0      Afghanistan           Afghanistan      Afghanistan  ...   \n",
       "1          Albania               Albania          Albania  ...   \n",
       "2          Algeria               Algeria          Algeria  ...   \n",
       "3   American Samoa        American Samoa   American Samoa  ...   \n",
       "4          Andorra               Andorra          Andorra  ...   \n",
       "\n",
       "  exiobase_region_alpha_code exiobase_region_alpha_code_2  \\\n",
       "0                        WWA                           WA   \n",
       "1                        WWE                           WE   \n",
       "2                        WWF                           WF   \n",
       "3                        WWA                           WA   \n",
       "4                        NaN                          NaN   \n",
       "\n",
       "  exiobase_region_group_code exiobase_region_group_name  exiobase_region_id  \\\n",
       "0                       11.0              Rest of World                45.0   \n",
       "1                       11.0              Rest of World                47.0   \n",
       "2                       11.0              Rest of World                48.0   \n",
       "3                       11.0              Rest of World                45.0   \n",
       "4                        NaN                        NaN                 NaN   \n",
       "\n",
       "  is_EU27  is_south_america                 official_name_in_english  \\\n",
       "0     NaN               NaN             Islamic State of Afghanistan   \n",
       "1     NaN               NaN                      Republic of Albania   \n",
       "2     NaN               NaN  People's Democratic Republic of Algeria   \n",
       "3     NaN               NaN                           American Samoa   \n",
       "4     NaN               NaN                  Principality of Andorra   \n",
       "\n",
       "   FAO_FRA_country_name FAO_country_code_terrestrial_irrigation  \n",
       "0           Afghanistan                                     2.0  \n",
       "1  Albania (Desk study)                                     3.0  \n",
       "2               Algeria                                     4.0  \n",
       "3        American Samoa                                     5.0  \n",
       "4               Andorra                                     6.0  \n",
       "\n",
       "[5 rows x 22 columns]"
      ]
     },
     "execution_count": 15,
     "metadata": {},
     "output_type": "execute_result"
    }
   ],
   "source": [
    "country_specs = pd.read_csv(\n",
    "    os.path.join(data_dir, \"country_specs/country_specs.csv\")\n",
    ")\n",
    "country_specs.head()"
   ]
  },
  {
   "cell_type": "code",
   "execution_count": 16,
   "metadata": {},
   "outputs": [
    {
     "data": {
      "text/plain": [
       "['./data/source/production/production_crops_livestock_e_flags.csv',\n",
       " './data/source/production/production_crops_livestock_e_itemcodes.csv',\n",
       " './data/source/production/data_normalized.csv',\n",
       " './data/source/production/production_crops_livestock_e_areacodes.csv']"
      ]
     },
     "execution_count": 16,
     "metadata": {},
     "output_type": "execute_result"
    }
   ],
   "source": [
    "_path = \"./data/source/production/\"\n",
    "\n",
    "fn_list = [\n",
    "    os.path.join(_path, f) for f in os.listdir(_path) if f.endswith(\".csv\")\n",
    "]\n",
    "fn_list"
   ]
  },
  {
   "cell_type": "code",
   "execution_count": 18,
   "metadata": {},
   "outputs": [
    {
     "name": "stderr",
     "output_type": "stream",
     "text": [
      "/tmp/ipykernel_214843/2288921898.py:8: DtypeWarning: Columns (13) have mixed types. Specify dtype option on import or set low_memory=False.\n",
      "  data_normalized = pd.read_csv(os.path.join(_path, \"data_normalized.csv\"))\n"
     ]
    }
   ],
   "source": [
    "@dataclass\n",
    "class Production:\n",
    "    \"\"\"Production data for a crop in a country in a year\"\"\"\n",
    "\n",
    "    areacodes = pd.read_csv(\n",
    "        os.path.join(_path, \"production_crops_livestock_e_areacodes.csv\"),\n",
    "    )\n",
    "    data_normalized = pd.read_csv(\n",
    "        os.path.join(\n",
    "            _path,\n",
    "            \"data_normalized.csv\",\n",
    "        )\n",
    "    )\n",
    "    flags = pd.read_csv(\n",
    "        os.path.join(_path, \"production_crops_livestock_e_flags.csv\"),\n",
    "    )\n",
    "    itemcodes = pd.read_csv(\n",
    "        os.path.join(_path, \"production_crops_livestock_e_itemcodes.csv\"),\n",
    "    )"
   ]
  },
  {
   "cell_type": "markdown",
   "metadata": {},
   "source": [
    "## Exploration "
   ]
  },
  {
   "cell_type": "markdown",
   "metadata": {},
   "source": [
    "### Country Specs "
   ]
  },
  {
   "cell_type": "markdown",
   "metadata": {},
   "source": [
    "#### Display"
   ]
  },
  {
   "cell_type": "code",
   "execution_count": null,
   "metadata": {},
   "outputs": [],
   "source": [
    "country_specs.head(10)"
   ]
  },
  {
   "cell_type": "code",
   "execution_count": null,
   "metadata": {},
   "outputs": [],
   "source": [
    "country_specs.tail(10)"
   ]
  },
  {
   "cell_type": "code",
   "execution_count": null,
   "metadata": {},
   "outputs": [],
   "source": [
    "country_specs.sample(10)"
   ]
  },
  {
   "cell_type": "markdown",
   "metadata": {},
   "source": [
    "#### Structure"
   ]
  },
  {
   "cell_type": "code",
   "execution_count": null,
   "metadata": {},
   "outputs": [],
   "source": [
    "country_specs.shape"
   ]
  },
  {
   "cell_type": "code",
   "execution_count": null,
   "metadata": {},
   "outputs": [],
   "source": [
    "country_specs.columns"
   ]
  },
  {
   "cell_type": "code",
   "execution_count": null,
   "metadata": {},
   "outputs": [],
   "source": [
    "country_specs.dtypes"
   ]
  },
  {
   "cell_type": "code",
   "execution_count": null,
   "metadata": {},
   "outputs": [],
   "source": [
    "country_specs.info()"
   ]
  },
  {
   "cell_type": "code",
   "execution_count": null,
   "metadata": {},
   "outputs": [],
   "source": [
    "crops.dtypes.value_counts()"
   ]
  },
  {
   "cell_type": "code",
   "execution_count": null,
   "metadata": {},
   "outputs": [],
   "source": [
    "for dtype in [\"object\", \"float\", \"int\"]:\n",
    "    selected_dtype = country_specs.select_dtypes(include=[dtype])\n",
    "    display(selected_dtype.columns)"
   ]
  },
  {
   "cell_type": "code",
   "execution_count": null,
   "metadata": {},
   "outputs": [],
   "source": [
    "_num = country_specs.select_dtypes(include=[\"number\"])\n",
    "_num"
   ]
  },
  {
   "cell_type": "code",
   "execution_count": null,
   "metadata": {},
   "outputs": [],
   "source": [
    "_num_cols = _num.columns.tolist()\n",
    "[i for i in _num_cols if (\"code\" not in i) and (\"id\" not in i)]"
   ]
  },
  {
   "cell_type": "markdown",
   "metadata": {},
   "source": [
    "**Conclusion**\n",
    "\n",
    "No data in the crop dataset."
   ]
  },
  {
   "cell_type": "markdown",
   "metadata": {},
   "source": [
    "#### Nan"
   ]
  },
  {
   "cell_type": "code",
   "execution_count": null,
   "metadata": {},
   "outputs": [],
   "source": [
    "crops.isna().sum()"
   ]
  },
  {
   "cell_type": "code",
   "execution_count": null,
   "metadata": {},
   "outputs": [],
   "source": [
    "tmp = crops.isna().mean().round(2)\n",
    "tmp[tmp > 0.00]"
   ]
  },
  {
   "cell_type": "code",
   "execution_count": null,
   "metadata": {},
   "outputs": [],
   "source": [
    "len(tmp[tmp > 0.00]) / len(tmp)"
   ]
  },
  {
   "cell_type": "code",
   "execution_count": null,
   "metadata": {},
   "outputs": [],
   "source": [
    "tmp = crops.isna().mean(axis=1).round(2)\n",
    "tmp.value_counts().sort_index()"
   ]
  },
  {
   "cell_type": "code",
   "execution_count": null,
   "metadata": {},
   "outputs": [],
   "source": []
  },
  {
   "cell_type": "code",
   "execution_count": null,
   "metadata": {},
   "outputs": [],
   "source": [
    "msno.matrix(country_specs)"
   ]
  },
  {
   "cell_type": "markdown",
   "metadata": {},
   "source": [
    "**Conclusion**\n",
    "\n",
    "- delete is_EU27 and is_south_america"
   ]
  },
  {
   "cell_type": "code",
   "execution_count": null,
   "metadata": {},
   "outputs": [],
   "source": [
    "# delete is_EU27 and is_south_america"
   ]
  },
  {
   "cell_type": "code",
   "execution_count": null,
   "metadata": {},
   "outputs": [],
   "source": [
    "drop_cols = [\"is_EU27\", \"is_south_america\"]\n",
    "country_specs = country_specs.drop(columns=drop_cols)\n",
    "msno.matrix(country_specs)"
   ]
  },
  {
   "cell_type": "code",
   "execution_count": null,
   "metadata": {},
   "outputs": [],
   "source": [
    "tmp = country_specs.isna().mean(axis=1).round(2)\n",
    "tmp.value_counts().sort_index()"
   ]
  },
  {
   "cell_type": "code",
   "execution_count": null,
   "metadata": {},
   "outputs": [],
   "source": [
    "threshold = 0.2\n",
    "tmp[tmp >= threshold]"
   ]
  },
  {
   "cell_type": "code",
   "execution_count": null,
   "metadata": {},
   "outputs": [],
   "source": [
    "drop_idxs = tmp[tmp > threshold].index\n",
    "country_specs.loc[drop_idxs, :]"
   ]
  },
  {
   "cell_type": "markdown",
   "metadata": {},
   "source": [
    "**Conclusion**\n",
    "\n",
    "- countries with Nan rate > 0.3 are Island or -100k pop (Monaco, Antigua)"
   ]
  },
  {
   "cell_type": "code",
   "execution_count": null,
   "metadata": {},
   "outputs": [],
   "source": [
    "country_specs = country_specs.drop(\n",
    "    index=drop_idxs, columns=drop_cols, errors=\"ignore\"\n",
    ")\n",
    "msno.matrix(country_specs)"
   ]
  },
  {
   "cell_type": "code",
   "execution_count": null,
   "metadata": {},
   "outputs": [],
   "source": []
  },
  {
   "cell_type": "code",
   "execution_count": null,
   "metadata": {},
   "outputs": [],
   "source": [
    "num_cols = country_specs.select_dtypes(\n",
    "    include=[\"float\", \"int\"]\n",
    ").columns.tolist()\n",
    "\n",
    "num_cols = [i for i in num_cols if \"code\" not in i]\n",
    "\n",
    "categ_cols = [\n",
    "    \"alpha_3_code\",\n",
    "    \"FAO_country_name\",\n",
    "    \"exiobase_region_name\",\n",
    "    \"globio_country_code\",\n",
    "    \"globio_country_name\",\n",
    "    \"USS30_region_name\",\n",
    "]\n",
    "\n",
    "\n",
    "country_specs = country_specs.loc[:, num_cols + categ_cols]"
   ]
  },
  {
   "cell_type": "code",
   "execution_count": null,
   "metadata": {},
   "outputs": [],
   "source": [
    "country_specs"
   ]
  },
  {
   "cell_type": "code",
   "execution_count": null,
   "metadata": {},
   "outputs": [],
   "source": []
  },
  {
   "cell_type": "markdown",
   "metadata": {},
   "source": [
    "**Conclusion**\n",
    "\n",
    "- No relevant data in the crop dataset"
   ]
  },
  {
   "cell_type": "code",
   "execution_count": null,
   "metadata": {},
   "outputs": [],
   "source": []
  },
  {
   "cell_type": "markdown",
   "metadata": {},
   "source": [
    "#### Data Inspection"
   ]
  },
  {
   "cell_type": "code",
   "execution_count": null,
   "metadata": {},
   "outputs": [],
   "source": [
    "country_specs.FAO_country_name.value_counts()"
   ]
  },
  {
   "cell_type": "code",
   "execution_count": null,
   "metadata": {},
   "outputs": [],
   "source": [
    "country_specs.FAO_country_name.nunique()"
   ]
  },
  {
   "cell_type": "code",
   "execution_count": null,
   "metadata": {},
   "outputs": [],
   "source": [
    "country_specs.USS30_region_name.value_counts()"
   ]
  },
  {
   "cell_type": "code",
   "execution_count": null,
   "metadata": {},
   "outputs": [],
   "source": []
  },
  {
   "cell_type": "code",
   "execution_count": null,
   "metadata": {},
   "outputs": [],
   "source": [
    "country_specs.FAO_country_name.value_counts().value_counts()"
   ]
  },
  {
   "cell_type": "code",
   "execution_count": null,
   "metadata": {},
   "outputs": [],
   "source": [
    "country_specs.groupby(\"exiobase_region_name\").FAO_country_name.count()"
   ]
  },
  {
   "cell_type": "markdown",
   "metadata": {},
   "source": [
    "#### DataSet Conclusion"
   ]
  },
  {
   "cell_type": "markdown",
   "metadata": {},
   "source": [
    "- No relevant data in the crop dataset"
   ]
  },
  {
   "cell_type": "code",
   "execution_count": null,
   "metadata": {},
   "outputs": [],
   "source": []
  },
  {
   "cell_type": "markdown",
   "metadata": {},
   "source": [
    "### Crops "
   ]
  },
  {
   "cell_type": "markdown",
   "metadata": {},
   "source": [
    "#### Wheat Selection"
   ]
  },
  {
   "cell_type": "code",
   "execution_count": null,
   "metadata": {},
   "outputs": [],
   "source": [
    "feature = \"Wheat\"\n",
    "crops = crops.loc[crops.item_name == feature, :]"
   ]
  },
  {
   "cell_type": "code",
   "execution_count": null,
   "metadata": {},
   "outputs": [],
   "source": [
    "item_cols = [i for i in crops.columns if \"item\" in i]\n",
    "item_cols"
   ]
  },
  {
   "cell_type": "code",
   "execution_count": null,
   "metadata": {},
   "outputs": [],
   "source": [
    "crops.drop(columns=item_cols, inplace=True, errors=\"ignore\")\n",
    "crops"
   ]
  },
  {
   "cell_type": "code",
   "execution_count": null,
   "metadata": {},
   "outputs": [],
   "source": [
    "crops"
   ]
  },
  {
   "cell_type": "markdown",
   "metadata": {},
   "source": [
    "#### Display"
   ]
  },
  {
   "cell_type": "code",
   "execution_count": null,
   "metadata": {},
   "outputs": [],
   "source": [
    "crops.head(10)"
   ]
  },
  {
   "cell_type": "code",
   "execution_count": null,
   "metadata": {},
   "outputs": [],
   "source": [
    "crops.tail(10)"
   ]
  },
  {
   "cell_type": "code",
   "execution_count": null,
   "metadata": {},
   "outputs": [],
   "source": [
    "crops.sample(10)"
   ]
  },
  {
   "cell_type": "markdown",
   "metadata": {},
   "source": [
    "#### Structure"
   ]
  },
  {
   "cell_type": "code",
   "execution_count": null,
   "metadata": {},
   "outputs": [],
   "source": [
    "crops.drop(columns=\"id\", inplace=True, errors=\"ignore\")"
   ]
  },
  {
   "cell_type": "code",
   "execution_count": null,
   "metadata": {},
   "outputs": [],
   "source": [
    "crops.shape"
   ]
  },
  {
   "cell_type": "code",
   "execution_count": null,
   "metadata": {},
   "outputs": [],
   "source": [
    "crops.columns"
   ]
  },
  {
   "cell_type": "code",
   "execution_count": null,
   "metadata": {},
   "outputs": [],
   "source": [
    "crops.dtypes"
   ]
  },
  {
   "cell_type": "code",
   "execution_count": null,
   "metadata": {},
   "outputs": [],
   "source": [
    "crops.info()"
   ]
  },
  {
   "cell_type": "code",
   "execution_count": null,
   "metadata": {},
   "outputs": [],
   "source": [
    "crops.dtypes.value_counts()"
   ]
  },
  {
   "cell_type": "code",
   "execution_count": null,
   "metadata": {},
   "outputs": [],
   "source": [
    "for dtype in [\"object\", \"float\", \"int\"]:\n",
    "    selected_dtype = crops.select_dtypes(include=[dtype])\n",
    "    display(selected_dtype.columns)"
   ]
  },
  {
   "cell_type": "code",
   "execution_count": null,
   "metadata": {},
   "outputs": [],
   "source": [
    "_num = crops.select_dtypes(include=[\"number\"])\n",
    "_num"
   ]
  },
  {
   "cell_type": "code",
   "execution_count": null,
   "metadata": {},
   "outputs": [],
   "source": [
    "_feat_cols = [i for i in _num.columns if \"msa\" in i]\n",
    "_feat_cols"
   ]
  },
  {
   "cell_type": "markdown",
   "metadata": {},
   "source": [
    "#### Separation Static/Dynamic"
   ]
  },
  {
   "cell_type": "code",
   "execution_count": null,
   "metadata": {},
   "outputs": [],
   "source": [
    "categ_cols = [i for i in crops.columns if \"msa\" not in i]\n",
    "static_cols = [i for i in crops.columns if \"static\" in i]\n",
    "dynamic_cols = [i for i in crops.columns if \"dynamic\" in i]\n",
    "\n",
    "display(categ_cols)\n",
    "display(static_cols)\n",
    "display(dynamic_cols)"
   ]
  },
  {
   "cell_type": "markdown",
   "metadata": {},
   "source": []
  },
  {
   "cell_type": "code",
   "execution_count": null,
   "metadata": {},
   "outputs": [],
   "source": [
    "crops_static = crops.loc[:, categ_cols + static_cols]\n",
    "crops_static.head()"
   ]
  },
  {
   "cell_type": "code",
   "execution_count": null,
   "metadata": {},
   "outputs": [],
   "source": [
    "crops_dynamic = crops.loc[:, categ_cols + dynamic_cols]\n",
    "crops_dynamic"
   ]
  },
  {
   "cell_type": "code",
   "execution_count": null,
   "metadata": {},
   "outputs": [],
   "source": []
  },
  {
   "cell_type": "markdown",
   "metadata": {},
   "source": [
    "# BE CAREFULL => in the report we do have to distinguish between terestrial static, dynamic and marine static, dynamic"
   ]
  },
  {
   "cell_type": "markdown",
   "metadata": {},
   "source": [
    "#### Summize"
   ]
  },
  {
   "cell_type": "markdown",
   "metadata": {},
   "source": [
    "crops_static"
   ]
  },
  {
   "cell_type": "code",
   "execution_count": null,
   "metadata": {},
   "outputs": [],
   "source": [
    "crops_static"
   ]
  },
  {
   "cell_type": "code",
   "execution_count": null,
   "metadata": {},
   "outputs": [],
   "source": [
    "sum_static = crops_static.iloc[:, 1:].sum(axis=1)\n",
    "sum_static"
   ]
  },
  {
   "cell_type": "code",
   "execution_count": null,
   "metadata": {},
   "outputs": [],
   "source": []
  },
  {
   "cell_type": "code",
   "execution_count": null,
   "metadata": {},
   "outputs": [],
   "source": [
    "crops_static = crops_static.iloc[:, :1]\n",
    "crops_static[\"sum_static\"] = sum_static.values"
   ]
  },
  {
   "cell_type": "markdown",
   "metadata": {},
   "source": [
    "#### Data Inspection"
   ]
  },
  {
   "cell_type": "code",
   "execution_count": null,
   "metadata": {},
   "outputs": [],
   "source": [
    "crops_static.describe()"
   ]
  },
  {
   "cell_type": "code",
   "execution_count": null,
   "metadata": {},
   "outputs": [],
   "source": []
  },
  {
   "cell_type": "code",
   "execution_count": null,
   "metadata": {},
   "outputs": [],
   "source": []
  },
  {
   "cell_type": "code",
   "execution_count": null,
   "metadata": {},
   "outputs": [],
   "source": [
    "crops.globio_country_code.value_counts()"
   ]
  },
  {
   "cell_type": "code",
   "execution_count": null,
   "metadata": {},
   "outputs": [],
   "source": [
    "crops.globio_country_code.nunique()"
   ]
  },
  {
   "cell_type": "markdown",
   "metadata": {},
   "source": [
    "**Conclusion**\n",
    "\n",
    "????"
   ]
  },
  {
   "cell_type": "markdown",
   "metadata": {},
   "source": [
    "#### Merge Country Specs and crops"
   ]
  },
  {
   "cell_type": "code",
   "execution_count": null,
   "metadata": {},
   "outputs": [],
   "source": [
    "country_specs"
   ]
  },
  {
   "cell_type": "code",
   "execution_count": null,
   "metadata": {},
   "outputs": [],
   "source": [
    "# merged = pd.merge(left=_country_specs, right=crops, on=\"globio_country_code\",how=\"left\")\n",
    "# merged"
   ]
  },
  {
   "cell_type": "code",
   "execution_count": null,
   "metadata": {},
   "outputs": [],
   "source": [
    "tmp = country_specs.loc[:, [\"globio_country_code\", \"globio_country_name\"]]\n",
    "tmp.index = tmp.globio_country_code\n",
    "tmp.drop(columns=\"globio_country_code\", inplace=True)\n",
    "tmp.index.name = None\n",
    "tmp = tmp.to_dict().get(\"globio_country_name\")\n",
    "tmp"
   ]
  },
  {
   "cell_type": "code",
   "execution_count": null,
   "metadata": {},
   "outputs": [],
   "source": [
    "crops_static[\"globio_country_name\"] = crops_static.globio_country_code.apply(\n",
    "    lambda i: tmp.get(i, np.nan)\n",
    ")\n",
    "crops_static"
   ]
  },
  {
   "cell_type": "markdown",
   "metadata": {},
   "source": [
    "#### Nan"
   ]
  },
  {
   "cell_type": "code",
   "execution_count": null,
   "metadata": {},
   "outputs": [],
   "source": [
    "crops_static.isna().sum()"
   ]
  },
  {
   "cell_type": "markdown",
   "metadata": {},
   "source": [
    "**Conclusion**\n",
    "\n",
    "???"
   ]
  },
  {
   "cell_type": "markdown",
   "metadata": {},
   "source": [
    "**Conclusion**\n",
    "???"
   ]
  },
  {
   "cell_type": "markdown",
   "metadata": {},
   "source": [
    "## Production"
   ]
  },
  {
   "cell_type": "markdown",
   "metadata": {},
   "source": [
    "#### Table Analysis"
   ]
  },
  {
   "cell_type": "code",
   "execution_count": null,
   "metadata": {},
   "outputs": [],
   "source": [
    "Production.areacodes"
   ]
  },
  {
   "cell_type": "code",
   "execution_count": null,
   "metadata": {},
   "outputs": [],
   "source": [
    "Production.flags"
   ]
  },
  {
   "cell_type": "code",
   "execution_count": null,
   "metadata": {},
   "outputs": [],
   "source": [
    "flags = {\n",
    "    k: v\n",
    "    for k, v in zip(\n",
    "        Production.flags.Flag.values, Production.flags.Description.values\n",
    "    )\n",
    "}\n",
    "flags"
   ]
  },
  {
   "cell_type": "code",
   "execution_count": null,
   "metadata": {},
   "outputs": [],
   "source": [
    "Production.itemcodes"
   ]
  },
  {
   "cell_type": "code",
   "execution_count": null,
   "metadata": {},
   "outputs": [],
   "source": [
    "data = Production.data_normalized\n",
    "data"
   ]
  },
  {
   "cell_type": "code",
   "execution_count": null,
   "metadata": {},
   "outputs": [],
   "source": [
    "data[\"Flag_value\"] = data.Flag.apply(lambda i: flags[i])\n",
    "data"
   ]
  },
  {
   "cell_type": "code",
   "execution_count": null,
   "metadata": {},
   "outputs": [],
   "source": [
    "data.columns"
   ]
  },
  {
   "cell_type": "markdown",
   "metadata": {},
   "source": [
    "#### Feature selection"
   ]
  },
  {
   "cell_type": "code",
   "execution_count": null,
   "metadata": {},
   "outputs": [],
   "source": [
    "cols = [\n",
    "    # \"Area Code\",\n",
    "    # \"Area Code (M49)\",\n",
    "    \"Area\",\n",
    "    # \"Item Code\",\n",
    "    # \"Item Code (CPC)\",\n",
    "    \"Item\",\n",
    "    # \"Element Code\",\n",
    "    \"Element\",\n",
    "    # \"Year Code\",\n",
    "    \"Year\",\n",
    "    \"Unit\",\n",
    "    \"Value\",\n",
    "    # \"Flag\",\n",
    "    # \"Note\",\n",
    "    \"Flag_value\",\n",
    "]"
   ]
  },
  {
   "cell_type": "code",
   "execution_count": null,
   "metadata": {},
   "outputs": [],
   "source": [
    "data = data.loc[:, cols]\n",
    "data"
   ]
  },
  {
   "cell_type": "code",
   "execution_count": null,
   "metadata": {},
   "outputs": [],
   "source": [
    "data.Element.nunique()"
   ]
  },
  {
   "cell_type": "code",
   "execution_count": null,
   "metadata": {},
   "outputs": [],
   "source": [
    "data.Element.value_counts()"
   ]
  },
  {
   "cell_type": "code",
   "execution_count": null,
   "metadata": {},
   "outputs": [],
   "source": [
    "data.Item.value_counts()"
   ]
  },
  {
   "cell_type": "code",
   "execution_count": null,
   "metadata": {},
   "outputs": [],
   "source": [
    "data_weat = data.loc[data.Item.str.lower().str.contains(\"wheat\"), :]\n",
    "data_weat"
   ]
  },
  {
   "cell_type": "code",
   "execution_count": null,
   "metadata": {},
   "outputs": [],
   "source": [
    "data_weat_2019 = data_weat.loc[data_weat.Year == 2019, :]\n",
    "data_weat_2019"
   ]
  },
  {
   "cell_type": "code",
   "execution_count": null,
   "metadata": {},
   "outputs": [],
   "source": [
    "data_weat_2019_h = data_weat_2019.loc[data_weat_2019.Unit == \"ha\", :]"
   ]
  },
  {
   "cell_type": "code",
   "execution_count": null,
   "metadata": {},
   "outputs": [],
   "source": [
    "data_weat_2019_h"
   ]
  },
  {
   "cell_type": "code",
   "execution_count": null,
   "metadata": {},
   "outputs": [],
   "source": [
    "data_weat_2019_h.columns"
   ]
  },
  {
   "cell_type": "code",
   "execution_count": null,
   "metadata": {},
   "outputs": [],
   "source": [
    "cols = [\n",
    "    \"Area\",\n",
    "    # \"Item\",\n",
    "    # \"Element\",\n",
    "    # \"Year\",\n",
    "    # \"Unit\",\n",
    "    \"Value\",\n",
    "    \"Flag_value\",\n",
    "]\n",
    "\n",
    "data_weat_2019_h = data_weat_2019_h.loc[:, cols]\n",
    "data_weat_2019_h"
   ]
  },
  {
   "cell_type": "markdown",
   "metadata": {},
   "source": [
    "#### Display "
   ]
  },
  {
   "cell_type": "code",
   "execution_count": null,
   "metadata": {},
   "outputs": [],
   "source": [
    "data_weat_2019_h.head(10)"
   ]
  },
  {
   "cell_type": "code",
   "execution_count": null,
   "metadata": {},
   "outputs": [],
   "source": [
    "data_weat_2019_h.tail(10)"
   ]
  },
  {
   "cell_type": "code",
   "execution_count": null,
   "metadata": {},
   "outputs": [],
   "source": [
    "data_weat_2019_h.sample(10)"
   ]
  },
  {
   "cell_type": "markdown",
   "metadata": {},
   "source": [
    "#### Structure"
   ]
  },
  {
   "cell_type": "code",
   "execution_count": null,
   "metadata": {},
   "outputs": [],
   "source": [
    "data_weat_2019_h.shape"
   ]
  },
  {
   "cell_type": "code",
   "execution_count": null,
   "metadata": {},
   "outputs": [],
   "source": [
    "data_weat_2019_h.info()"
   ]
  },
  {
   "cell_type": "markdown",
   "metadata": {},
   "source": [
    "#### Nan"
   ]
  },
  {
   "cell_type": "code",
   "execution_count": null,
   "metadata": {},
   "outputs": [],
   "source": []
  },
  {
   "cell_type": "code",
   "execution_count": null,
   "metadata": {},
   "outputs": [],
   "source": [
    "data_weat_2019_h.isna().sum()"
   ]
  },
  {
   "cell_type": "code",
   "execution_count": null,
   "metadata": {},
   "outputs": [],
   "source": [
    "data_weat_2019_h"
   ]
  },
  {
   "cell_type": "markdown",
   "metadata": {},
   "source": [
    "data_weat_2019_h.shape"
   ]
  },
  {
   "cell_type": "markdown",
   "metadata": {},
   "source": [
    "## Final Merge"
   ]
  },
  {
   "cell_type": "markdown",
   "metadata": {},
   "source": [
    "### Keys Analysis"
   ]
  },
  {
   "cell_type": "code",
   "execution_count": null,
   "metadata": {},
   "outputs": [],
   "source": [
    "data_weat_2019_h.sort_values(\"Area\", inplace=True, ascending=True)\n",
    "data_weat_2019_h.rename(\n",
    "    columns={\"Value\": \"km2\"}, inplace=True, errors=\"ignore\"\n",
    ")\n",
    "data_weat_2019_h"
   ]
  },
  {
   "cell_type": "markdown",
   "metadata": {},
   "source": [
    "####### BE CARREFULLL KM2 is supposed"
   ]
  },
  {
   "cell_type": "code",
   "execution_count": null,
   "metadata": {},
   "outputs": [],
   "source": []
  },
  {
   "cell_type": "code",
   "execution_count": null,
   "metadata": {},
   "outputs": [],
   "source": [
    "crops_static.sort_values(\"globio_country_name\", ascending=True, inplace=True)\n",
    "crops_static"
   ]
  },
  {
   "cell_type": "code",
   "execution_count": null,
   "metadata": {},
   "outputs": [],
   "source": [
    "country_specs.sort_values(\"FAO_country_name\", ascending=True, inplace=True)\n",
    "country_specs"
   ]
  },
  {
   "cell_type": "code",
   "execution_count": null,
   "metadata": {},
   "outputs": [],
   "source": [
    "crops_static.shape"
   ]
  },
  {
   "cell_type": "code",
   "execution_count": null,
   "metadata": {},
   "outputs": [],
   "source": [
    "data_weat_2019_h.shape"
   ]
  },
  {
   "cell_type": "code",
   "execution_count": null,
   "metadata": {},
   "outputs": [],
   "source": [
    "country_specs.shape"
   ]
  },
  {
   "cell_type": "markdown",
   "metadata": {},
   "source": [
    "### data vs country ON FAO_country_name"
   ]
  },
  {
   "cell_type": "code",
   "execution_count": null,
   "metadata": {},
   "outputs": [],
   "source": [
    "merge1 = pd.merge(\n",
    "    left=country_specs,\n",
    "    right=data_weat_2019_h,\n",
    "    left_on=\"FAO_country_name\",\n",
    "    right_on=\"Area\",\n",
    "    how=\"outer\",\n",
    "    indicator=True,\n",
    ")\n",
    "\n",
    "merge1"
   ]
  },
  {
   "cell_type": "code",
   "execution_count": null,
   "metadata": {},
   "outputs": [],
   "source": [
    "merge1.rename(columns={\"_merge\": \"_merge_1\"}, inplace=True)\n",
    "merge1"
   ]
  },
  {
   "cell_type": "markdown",
   "metadata": {},
   "source": [
    "data_weat_2019_h.head()"
   ]
  },
  {
   "cell_type": "markdown",
   "metadata": {},
   "source": [
    "### Merge1 v crops "
   ]
  },
  {
   "cell_type": "code",
   "execution_count": null,
   "metadata": {},
   "outputs": [],
   "source": [
    "merge2 = pd.merge(\n",
    "    left=merge1,\n",
    "    right=crops_static,\n",
    "    left_on=\"globio_country_name\",\n",
    "    right_on=\"globio_country_name\",\n",
    "    how=\"outer\",\n",
    "    indicator=True,\n",
    ")\n",
    "\n",
    "merge2"
   ]
  },
  {
   "cell_type": "code",
   "execution_count": null,
   "metadata": {},
   "outputs": [],
   "source": [
    "merge2.rename(columns={\"_merge\": \"_merge_2\"}, inplace=True)\n",
    "merge2"
   ]
  },
  {
   "cell_type": "code",
   "execution_count": null,
   "metadata": {},
   "outputs": [],
   "source": []
  },
  {
   "cell_type": "code",
   "execution_count": null,
   "metadata": {},
   "outputs": [],
   "source": [
    "merge2.loc[merge2.loc[:, \"_merge_2\"] == \"both\", :]"
   ]
  },
  {
   "cell_type": "code",
   "execution_count": null,
   "metadata": {},
   "outputs": [],
   "source": [
    "merge2.loc[merge2.loc[:, \"_merge_2\"] == \"both\", :]"
   ]
  },
  {
   "cell_type": "code",
   "execution_count": null,
   "metadata": {},
   "outputs": [],
   "source": [
    "final = merge2.loc[merge2.loc[:, \"_merge_2\"] == \"both\", :]"
   ]
  },
  {
   "cell_type": "code",
   "execution_count": null,
   "metadata": {},
   "outputs": [],
   "source": []
  },
  {
   "cell_type": "markdown",
   "metadata": {},
   "source": [
    "### Select Features "
   ]
  },
  {
   "cell_type": "code",
   "execution_count": null,
   "metadata": {},
   "outputs": [],
   "source": [
    "final"
   ]
  },
  {
   "cell_type": "code",
   "execution_count": null,
   "metadata": {},
   "outputs": [],
   "source": [
    "final.columns"
   ]
  },
  {
   "cell_type": "code",
   "execution_count": null,
   "metadata": {},
   "outputs": [],
   "source": [
    "cols = [\n",
    "    # \"exiobase_region_id\",\n",
    "    \"alpha_3_code\",\n",
    "    \"FAO_country_name\",\n",
    "    # \"exiobase_region_name\",\n",
    "    # \"globio_country_code_x\",\n",
    "    \"globio_country_name\",\n",
    "    \"USS30_region_name\",\n",
    "    \"Area\",\n",
    "    \"km2\",\n",
    "    \"Flag_value\",\n",
    "    # \"_merge_1\",\n",
    "    # \"globio_country_code_y\",\n",
    "    \"sum_static\",\n",
    "    # \"_merge_2\",\n",
    "]"
   ]
  },
  {
   "cell_type": "code",
   "execution_count": null,
   "metadata": {},
   "outputs": [],
   "source": [
    "final = final.loc[:, cols]\n",
    "final"
   ]
  },
  {
   "cell_type": "code",
   "execution_count": null,
   "metadata": {},
   "outputs": [],
   "source": [
    "final[\"ms.km2\"] = final.km2 * final.sum_static\n",
    "final"
   ]
  },
  {
   "cell_type": "markdown",
   "metadata": {},
   "source": [
    "## Feature Engineering"
   ]
  },
  {
   "cell_type": "markdown",
   "metadata": {},
   "source": [
    "### population"
   ]
  },
  {
   "cell_type": "code",
   "execution_count": null,
   "metadata": {},
   "outputs": [],
   "source": [
    "fn = \"./data/source/population/API_SP.POP.TOTL_DS2_en_csv_v2_6298256.csv\"\n",
    "\n",
    "\n",
    "encoding = \"latin-1\"\n",
    "encoding = \"utf8\"\n",
    "with open(fn, \"r\", encoding=encoding) as f:\n",
    "    txt = f.readlines()"
   ]
  },
  {
   "cell_type": "code",
   "execution_count": null,
   "metadata": {},
   "outputs": [],
   "source": [
    "txt"
   ]
  },
  {
   "cell_type": "code",
   "execution_count": null,
   "metadata": {},
   "outputs": [],
   "source": [
    "txt[4:]"
   ]
  },
  {
   "cell_type": "code",
   "execution_count": null,
   "metadata": {},
   "outputs": [],
   "source": [
    "with open(fn, \"w\", encoding=\"utf8\") as f:\n",
    "    # txt[4:].write(f)\n",
    "    f.writelines(txt[4:])"
   ]
  },
  {
   "cell_type": "code",
   "execution_count": null,
   "metadata": {},
   "outputs": [],
   "source": [
    "pop = pd.read_csv(fn)"
   ]
  },
  {
   "cell_type": "code",
   "execution_count": null,
   "metadata": {},
   "outputs": [],
   "source": [
    "pop"
   ]
  },
  {
   "cell_type": "code",
   "execution_count": null,
   "metadata": {},
   "outputs": [],
   "source": [
    "pop = pop.loc[:, pop.columns.tolist()[:2] + [\"2019\"]]\n",
    "pop"
   ]
  },
  {
   "cell_type": "code",
   "execution_count": null,
   "metadata": {},
   "outputs": [],
   "source": [
    "pop.rename(columns={\"2019\": \"population\"}, inplace=True)"
   ]
  },
  {
   "cell_type": "markdown",
   "metadata": {},
   "source": [
    "## Gpd"
   ]
  },
  {
   "cell_type": "code",
   "execution_count": null,
   "metadata": {},
   "outputs": [],
   "source": [
    "fn = \"./data/source/gpd/API_NY.GDP.PCAP.CD_DS2_en_csv_v2_6298251.csv\""
   ]
  },
  {
   "cell_type": "code",
   "execution_count": null,
   "metadata": {},
   "outputs": [],
   "source": [
    "with open(fn, \"r\", encoding=\"utf8\") as f:\n",
    "    txt = f.readlines()"
   ]
  },
  {
   "cell_type": "code",
   "execution_count": null,
   "metadata": {},
   "outputs": [],
   "source": [
    "txt"
   ]
  },
  {
   "cell_type": "code",
   "execution_count": null,
   "metadata": {},
   "outputs": [],
   "source": [
    "txt[4:]"
   ]
  },
  {
   "cell_type": "code",
   "execution_count": null,
   "metadata": {},
   "outputs": [],
   "source": [
    "with open(fn, \"w\", encoding=\"utf8\") as f:\n",
    "    f.writelines(txt[4:])"
   ]
  },
  {
   "cell_type": "code",
   "execution_count": null,
   "metadata": {},
   "outputs": [],
   "source": [
    "gpd = pd.read_csv(fn)\n",
    "gpd"
   ]
  },
  {
   "cell_type": "code",
   "execution_count": null,
   "metadata": {},
   "outputs": [],
   "source": [
    "gpd = gpd.loc[:, gpd.columns.tolist()[:2] + [\"2019\"]]\n",
    "gpd"
   ]
  },
  {
   "cell_type": "code",
   "execution_count": null,
   "metadata": {},
   "outputs": [],
   "source": [
    "gpd.rename(columns={\"2019\": \"gpd_per_capita\"}, inplace=True)\n",
    "gpd"
   ]
  },
  {
   "cell_type": "markdown",
   "metadata": {},
   "source": [
    "### merge both"
   ]
  },
  {
   "cell_type": "markdown",
   "metadata": {},
   "source": []
  },
  {
   "cell_type": "code",
   "execution_count": null,
   "metadata": {},
   "outputs": [],
   "source": [
    "pop_gpd = pd.merge(\n",
    "    left=pop, right=gpd, on=[\"Country Name\", \"Country Code\"], how=\"outer\"\n",
    ")\n",
    "pop_gpd"
   ]
  },
  {
   "cell_type": "code",
   "execution_count": null,
   "metadata": {},
   "outputs": [],
   "source": [
    "test_3_codes = [\"AUT\", \"BEL, BGR\"]\n",
    "\n",
    "pop_gpd.loc[pop_gpd.loc[:, \"Country Name\"].str.contains(\"Bel\"), :]"
   ]
  },
  {
   "cell_type": "code",
   "execution_count": null,
   "metadata": {},
   "outputs": [],
   "source": [
    "pop_gpd.loc[pop_gpd.loc[:, \"Country Name\"].str.contains(\"Bul\"), :]"
   ]
  },
  {
   "cell_type": "code",
   "execution_count": null,
   "metadata": {},
   "outputs": [],
   "source": [
    "final_gpd_pop = pd.merge(\n",
    "    left=final,\n",
    "    right=pop_gpd,\n",
    "    left_on=\"alpha_3_code\",\n",
    "    right_on=\"Country Code\",\n",
    "    how=\"left\",\n",
    ")\n",
    "final_gpd_pop"
   ]
  },
  {
   "cell_type": "markdown",
   "metadata": {},
   "source": [
    "### Final Selection"
   ]
  },
  {
   "cell_type": "code",
   "execution_count": null,
   "metadata": {},
   "outputs": [],
   "source": [
    "final_gpd_pop.columns"
   ]
  },
  {
   "cell_type": "code",
   "execution_count": null,
   "metadata": {},
   "outputs": [],
   "source": [
    "cols = [\n",
    "    # \"exiobase_region_id\",\n",
    "    # \"alpha_3_code\",\n",
    "    # \"FAO_country_name\",\n",
    "    # \"exiobase_region_name\",\n",
    "    # \"globio_country_code_x\",\n",
    "    # \"globio_country_name\",\n",
    "    \"USS30_region_name\",\n",
    "    # \"Area\",\n",
    "    \"km2\",\n",
    "    # \"Flag_value\",\n",
    "    # \"_merge_1\",\n",
    "    # \"globio_country_code_y\",\n",
    "    \"sum_static\",\n",
    "    # \"_merge_2\",\n",
    "    \"ms.km2\",\n",
    "    \"Country Name\",\n",
    "    \"Country Code\",\n",
    "    \"population\",\n",
    "    \"gpd_per_capita\",\n",
    "]"
   ]
  },
  {
   "cell_type": "code",
   "execution_count": null,
   "metadata": {},
   "outputs": [],
   "source": [
    "final_gpd_pop = final_gpd_pop.loc[:, cols]\n",
    "final_gpd_pop"
   ]
  },
  {
   "cell_type": "code",
   "execution_count": null,
   "metadata": {},
   "outputs": [],
   "source": [
    "final_gpd_pop.columns = [i.lower() for i in final_gpd_pop.columns]\n",
    "final_gpd_pop"
   ]
  },
  {
   "cell_type": "code",
   "execution_count": null,
   "metadata": {},
   "outputs": [],
   "source": [
    "final_gpd_pop.columns"
   ]
  },
  {
   "cell_type": "code",
   "execution_count": null,
   "metadata": {},
   "outputs": [],
   "source": [
    "cols = [\n",
    "    \"uss30_region_name\",\n",
    "    \"country name\",\n",
    "    \"country code\",\n",
    "    \"km2\",\n",
    "    \"sum_static\",\n",
    "    \"ms.km2\",\n",
    "    \"population\",\n",
    "    \"gpd_per_capita\",\n",
    "]"
   ]
  },
  {
   "cell_type": "code",
   "execution_count": null,
   "metadata": {},
   "outputs": [],
   "source": [
    "final_gpd_pop = final_gpd_pop.loc[:, cols]\n",
    "final_gpd_pop.rename(\n",
    "    columns={\n",
    "        \"uss30_region_name\": \"region\",\n",
    "        \"sum_static\": \"sum_msa_static\",\n",
    "        \"ms.km2\": \"msa.km2\",\n",
    "    }\n",
    ")"
   ]
  },
  {
   "cell_type": "code",
   "execution_count": null,
   "metadata": {},
   "outputs": [],
   "source": [
    "final_gpd_pop.to_csv(\"./data/final.csv\", index=False)"
   ]
  },
  {
   "cell_type": "code",
   "execution_count": null,
   "metadata": {},
   "outputs": [],
   "source": []
  }
 ],
 "metadata": {
  "kernelspec": {
   "display_name": ".venv",
   "language": "python",
   "name": "python3"
  },
  "language_info": {
   "codemirror_mode": {
    "name": "ipython",
    "version": 3
   },
   "file_extension": ".py",
   "mimetype": "text/x-python",
   "name": "python",
   "nbconvert_exporter": "python",
   "pygments_lexer": "ipython3",
   "version": "3.10.12"
  }
 },
 "nbformat": 4,
 "nbformat_minor": 2
}
