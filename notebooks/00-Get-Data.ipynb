{
 "cells": [
  {
   "cell_type": "markdown",
   "metadata": {},
   "source": [
    "# 00-Get-Data"
   ]
  },
  {
   "cell_type": "markdown",
   "metadata": {},
   "source": [
    "Just find the data and download it."
   ]
  },
  {
   "cell_type": "markdown",
   "metadata": {},
   "source": [
    "## System"
   ]
  },
  {
   "cell_type": "code",
   "execution_count": 1,
   "metadata": {},
   "outputs": [
    {
     "name": "stdout",
     "output_type": "stream",
     "text": [
      "/home/alex/tmp/Global-Biodiversity-Score\n"
     ]
    },
    {
     "name": "stderr",
     "output_type": "stream",
     "text": [
      "/home/alex/tmp/Global-Biodiversity-Score/.venv/lib/python3.10/site-packages/IPython/core/magics/osm.py:417: UserWarning: using dhist requires you to install the `pickleshare` library.\n",
      "  self.shell.db['dhist'] = compress_dhist(dhist)[-100:]\n"
     ]
    }
   ],
   "source": [
    "cd .."
   ]
  },
  {
   "cell_type": "code",
   "execution_count": 2,
   "metadata": {},
   "outputs": [
    {
     "name": "stdout",
     "output_type": "stream",
     "text": [
      "/home/alex/tmp/Global-Biodiversity-Score\n"
     ]
    }
   ],
   "source": [
    "!pwd"
   ]
  },
  {
   "cell_type": "markdown",
   "metadata": {},
   "source": [
    "## Imports "
   ]
  },
  {
   "cell_type": "code",
   "execution_count": 3,
   "metadata": {},
   "outputs": [],
   "source": [
    "# built in modules\n",
    "import os\n",
    "import json"
   ]
  },
  {
   "cell_type": "code",
   "execution_count": 4,
   "metadata": {},
   "outputs": [],
   "source": [
    "# third party modules\n",
    "import pandas as pd"
   ]
  },
  {
   "cell_type": "code",
   "execution_count": 5,
   "metadata": {},
   "outputs": [],
   "source": [
    "# custom modules\n",
    "from gbs.etl.urls import Urls\n",
    "from gbs.helpers import runcmd\n",
    "from gbs.etl.extract import Extract"
   ]
  },
  {
   "cell_type": "markdown",
   "metadata": {},
   "source": [
    "## Build Data Directories"
   ]
  },
  {
   "cell_type": "code",
   "execution_count": null,
   "metadata": {},
   "outputs": [],
   "source": [
    "# make data/ directory if it doesn't exist\n",
    "if not os.path.exists(\"data\"):\n",
    "    os.makedirs(\"data\")"
   ]
  },
  {
   "cell_type": "code",
   "execution_count": null,
   "metadata": {},
   "outputs": [],
   "source": [
    "# make data/source/ directory if it doesn't exist\n",
    "if not os.path.exists(\"data/source\"):\n",
    "    os.makedirs(\"data/source/\")"
   ]
  },
  {
   "cell_type": "markdown",
   "metadata": {},
   "source": [
    "## Download Data"
   ]
  },
  {
   "cell_type": "code",
   "execution_count": null,
   "metadata": {},
   "outputs": [],
   "source": [
    "# download crops\n",
    "runcmd(\"wget -O data/source/crops.csv \" + Urls.crops_url)"
   ]
  },
  {
   "cell_type": "code",
   "execution_count": null,
   "metadata": {},
   "outputs": [],
   "source": [
    "# download countries specs\n",
    "runcmd(\"wget -O data/source/country_specs_url.csv \" + Urls.country_specs_url)"
   ]
  },
  {
   "cell_type": "code",
   "execution_count": null,
   "metadata": {},
   "outputs": [],
   "source": [
    "# dowlnoad qcl metadata\n",
    "runcmd(\"wget -O data/source/production.json \" + Urls.production_json)"
   ]
  },
  {
   "cell_type": "markdown",
   "metadata": {},
   "source": [
    "## Manage Production"
   ]
  },
  {
   "cell_type": "code",
   "execution_count": null,
   "metadata": {},
   "outputs": [],
   "source": [
    "# load qcl metadata\n",
    "qcl = json.load(open(\"data/source/production.json\"))\n",
    "qcl"
   ]
  },
  {
   "cell_type": "code",
   "execution_count": null,
   "metadata": {},
   "outputs": [],
   "source": [
    "# file qcl json is a list of datasets\n",
    "dataset = qcl.get(\"Datasets\").get(\"Dataset\")\n",
    "dataset[:3]"
   ]
  },
  {
   "cell_type": "code",
   "execution_count": null,
   "metadata": {},
   "outputs": [],
   "source": [
    "# convert to pandas dataframe\n",
    "df = pd.DataFrame(dataset)\n",
    "df.head()"
   ]
  },
  {
   "cell_type": "code",
   "execution_count": null,
   "metadata": {},
   "outputs": [],
   "source": [
    "# find qcl url\n",
    "production_url = df.loc[df.DatasetCode == \"QCL\"].FileLocation.values[0]\n",
    "production_url"
   ]
  },
  {
   "cell_type": "code",
   "execution_count": null,
   "metadata": {},
   "outputs": [],
   "source": [
    "# health check\n",
    "assert production_url == Urls.production_url"
   ]
  },
  {
   "cell_type": "code",
   "execution_count": null,
   "metadata": {},
   "outputs": [],
   "source": [
    "# curl qlc.zip\n",
    "runcmd(f\"curl --output ./data/source/production.zip '{Urls.production_url}'\")"
   ]
  },
  {
   "cell_type": "code",
   "execution_count": null,
   "metadata": {},
   "outputs": [],
   "source": [
    "# unzip the file\n",
    "runcmd(f\"unzip ./data/source/production.zip -d ./data/source/\")"
   ]
  },
  {
   "cell_type": "code",
   "execution_count": null,
   "metadata": {},
   "outputs": [],
   "source": [
    "# make data/source/production if it doesn't exist\n",
    "if not os.path.exists(\"data/source/production\"):\n",
    "    os.makedirs(\"data/source/production\")"
   ]
  },
  {
   "cell_type": "code",
   "execution_count": null,
   "metadata": {},
   "outputs": [],
   "source": [
    "# move production files to production folder\n",
    "runcmd(\"mv ./data/source/Pr* ./data/source/production/\")"
   ]
  },
  {
   "cell_type": "code",
   "execution_count": null,
   "metadata": {},
   "outputs": [],
   "source": [
    "# update filenames to lowercase\n",
    "path = \"data/source/production/\"\n",
    "pattern = \"Production_Crops_Livestock_E_All_\"\n",
    "\n",
    "for fn in os.listdir(path):\n",
    "    # clean filename\n",
    "    cleaned_fn = (\n",
    "        fn.replace(pattern, \"\").lower().replace(\"(\", \"\").replace(\")\", \"\")\n",
    "    )\n",
    "\n",
    "    # src and dst\n",
    "    src_ = os.path.join(path, fn)\n",
    "    dst_ = os.path.join(path, cleaned_fn)\n",
    "\n",
    "    # do rename\n",
    "    os.rename(src_, dst_)"
   ]
  },
  {
   "cell_type": "code",
   "execution_count": null,
   "metadata": {},
   "outputs": [],
   "source": [
    "os.listdir(\"data/source/production/\")"
   ]
  },
  {
   "cell_type": "code",
   "execution_count": null,
   "metadata": {},
   "outputs": [],
   "source": [
    "!rm -rf data/source/production.zip"
   ]
  },
  {
   "cell_type": "code",
   "execution_count": null,
   "metadata": {},
   "outputs": [],
   "source": [
    "!rm -rf data/source/production.json"
   ]
  },
  {
   "cell_type": "markdown",
   "metadata": {},
   "source": [
    "## Check Data Integrity"
   ]
  },
  {
   "cell_type": "code",
   "execution_count": null,
   "metadata": {},
   "outputs": [],
   "source": [
    "ext = \".csv\"\n",
    "path = \"data/source\"\n",
    "\n",
    "for fn in os.listdir(path):\n",
    "    print(fn)\n",
    "\n",
    "    if not fn.endswith(ext):\n",
    "        continue\n",
    "\n",
    "    df = pd.read_csv(os.path.join(path, fn))\n",
    "    assert isinstance(df, pd.DataFrame)\n",
    "    assert df.shape[0] > 0\n",
    "    assert df.shape[1] > 0"
   ]
  },
  {
   "cell_type": "code",
   "execution_count": null,
   "metadata": {},
   "outputs": [],
   "source": [
    "ext = \".csv\"\n",
    "path = \"data/source/production/\"\n",
    "\n",
    "for fn in os.listdir(path):\n",
    "    print(fn)\n",
    "\n",
    "    if not fn.endswith(ext):\n",
    "        continue\n",
    "\n",
    "    df = pd.read_csv(os.path.join(path, fn))\n",
    "    assert isinstance(df, pd.DataFrame)\n",
    "    assert df.shape[0] > 0\n",
    "    assert df.shape[1] > 0"
   ]
  },
  {
   "cell_type": "markdown",
   "metadata": {},
   "source": [
    "## ... or Just use relevant classes"
   ]
  },
  {
   "cell_type": "markdown",
   "metadata": {},
   "source": [
    "### One by One"
   ]
  },
  {
   "cell_type": "code",
   "execution_count": null,
   "metadata": {},
   "outputs": [],
   "source": [
    "extract = Extract()"
   ]
  },
  {
   "cell_type": "code",
   "execution_count": null,
   "metadata": {},
   "outputs": [],
   "source": [
    "extract.__dict__"
   ]
  },
  {
   "cell_type": "code",
   "execution_count": null,
   "metadata": {},
   "outputs": [],
   "source": [
    "extract.clean()"
   ]
  },
  {
   "cell_type": "code",
   "execution_count": null,
   "metadata": {},
   "outputs": [],
   "source": [
    "extract.make_folders()"
   ]
  },
  {
   "cell_type": "code",
   "execution_count": null,
   "metadata": {},
   "outputs": [],
   "source": [
    "extract.get_crops()"
   ]
  },
  {
   "cell_type": "code",
   "execution_count": null,
   "metadata": {},
   "outputs": [],
   "source": [
    "extract.get_country_specs()"
   ]
  },
  {
   "cell_type": "code",
   "execution_count": null,
   "metadata": {},
   "outputs": [],
   "source": [
    "extract.get_production()"
   ]
  },
  {
   "cell_type": "code",
   "execution_count": null,
   "metadata": {},
   "outputs": [],
   "source": [
    "extract.check_files()"
   ]
  },
  {
   "cell_type": "markdown",
   "metadata": {},
   "source": [
    "### All at Once"
   ]
  },
  {
   "cell_type": "code",
   "execution_count": 6,
   "metadata": {},
   "outputs": [
    {
     "name": "stderr",
     "output_type": "stream",
     "text": [
      "WARNING:root:std err :  ./data/source/crops.csv: No such file or directory\n",
      "WARNING:root:std err :  ./data/source/country_specs.csv: No such file or directory\n",
      "WARNING:root:std err :  % Total    % Received % Xferd  Average Speed   Time    Time     Time  Current\n",
      "                                 Dload  Upload   Total   Spent    Left  Speed\n",
      "\n",
      "  0     0    0     0    0     0      0      0 --:--:-- --:--:-- --:--:--     0Warning: Failed to open the file ./data/source/production.zip: No such file or \n",
      "Warning: directory\n",
      "\n",
      "  0 31.7M    0  4098    0     0  33881      0  0:16:23 --:--:--  0:16:23 34150\n",
      "curl: (23) Failure writing output to destination\n",
      "WARNING:root:std err :  unzip:  cannot find or open ./data/source/production.zip, ./data/source/production.zip.zip or ./data/source/production.zip.ZIP.\n",
      "WARNING:root:std err :  mv: cannot stat './data/source/Pr*': No such file or directory\n"
     ]
    },
    {
     "data": {
      "text/plain": [
       "[]"
      ]
     },
     "execution_count": 6,
     "metadata": {},
     "output_type": "execute_result"
    }
   ],
   "source": [
    "extract = Extract()\n",
    "extract.get_all(clean=True)"
   ]
  },
  {
   "cell_type": "code",
   "execution_count": null,
   "metadata": {},
   "outputs": [],
   "source": []
  }
 ],
 "metadata": {
  "kernelspec": {
   "display_name": ".venv",
   "language": "python",
   "name": "python3"
  },
  "language_info": {
   "codemirror_mode": {
    "name": "ipython",
    "version": 3
   },
   "file_extension": ".py",
   "mimetype": "text/x-python",
   "name": "python",
   "nbconvert_exporter": "python",
   "pygments_lexer": "ipython3",
   "version": "3.10.12"
  }
 },
 "nbformat": 4,
 "nbformat_minor": 2
}
