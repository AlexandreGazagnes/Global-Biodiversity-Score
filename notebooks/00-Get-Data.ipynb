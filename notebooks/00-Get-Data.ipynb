{
 "cells": [
  {
   "cell_type": "markdown",
   "metadata": {},
   "source": [
    "# 00-Get-Data"
   ]
  },
  {
   "cell_type": "markdown",
   "metadata": {},
   "source": [
    "Just find the data and download it."
   ]
  },
  {
   "cell_type": "markdown",
   "metadata": {},
   "source": [
    "## System"
   ]
  },
  {
   "cell_type": "code",
   "execution_count": 1,
   "metadata": {},
   "outputs": [
    {
     "name": "stdout",
     "output_type": "stream",
     "text": [
      "/home/alex/tmp/Global-Biodiversity-Score\n"
     ]
    }
   ],
   "source": [
    "cd .."
   ]
  },
  {
   "cell_type": "code",
   "execution_count": 2,
   "metadata": {},
   "outputs": [
    {
     "name": "stdout",
     "output_type": "stream",
     "text": [
      "/home/alex/tmp/Global-Biodiversity-Score\n"
     ]
    }
   ],
   "source": [
    "!pwd"
   ]
  },
  {
   "cell_type": "markdown",
   "metadata": {},
   "source": [
    "## Imports "
   ]
  },
  {
   "cell_type": "code",
   "execution_count": 3,
   "metadata": {},
   "outputs": [],
   "source": [
    "# built in modules\n",
    "import os\n",
    "import json"
   ]
  },
  {
   "cell_type": "code",
   "execution_count": 4,
   "metadata": {},
   "outputs": [],
   "source": [
    "# third party modules\n",
    "import pandas as pd"
   ]
  },
  {
   "cell_type": "code",
   "execution_count": 5,
   "metadata": {},
   "outputs": [],
   "source": [
    "# custom modules\n",
    "from gbs.etl.urls import Urls\n",
    "from gbs.helpers import runcmd"
   ]
  },
  {
   "cell_type": "markdown",
   "metadata": {},
   "source": [
    "## Build Data Directories"
   ]
  },
  {
   "cell_type": "code",
   "execution_count": null,
   "metadata": {},
   "outputs": [],
   "source": [
    "# make data/ directory if it doesn't exist\n",
    "if not os.path.exists(\"data\"):\n",
    "    os.makedirs(\"data\")"
   ]
  },
  {
   "cell_type": "code",
   "execution_count": null,
   "metadata": {},
   "outputs": [],
   "source": [
    "# make data/source/ directory if it doesn't exist\n",
    "if not os.path.exists(\"data/source\"):\n",
    "    os.makedirs(\"data/source/\")"
   ]
  },
  {
   "cell_type": "markdown",
   "metadata": {},
   "source": [
    "## Download Data"
   ]
  },
  {
   "cell_type": "code",
   "execution_count": null,
   "metadata": {},
   "outputs": [],
   "source": [
    "# download crops\n",
    "runcmd(\"wget -O data/source/crops.csv \" + Urls.crops_url)"
   ]
  },
  {
   "cell_type": "code",
   "execution_count": null,
   "metadata": {},
   "outputs": [],
   "source": [
    "# download countries specs\n",
    "runcmd(\"wget -O data/source/country_specs_url.csv \" + Urls.country_specs_url)"
   ]
  },
  {
   "cell_type": "code",
   "execution_count": null,
   "metadata": {},
   "outputs": [],
   "source": [
    "# dowlnoad qcl metadata\n",
    "runcmd(\"wget -O data/source/production.json \" + Urls.production_json)"
   ]
  },
  {
   "cell_type": "markdown",
   "metadata": {},
   "source": [
    "## Manage Production"
   ]
  },
  {
   "cell_type": "code",
   "execution_count": null,
   "metadata": {},
   "outputs": [],
   "source": [
    "# load qcl metadata\n",
    "qcl = json.load(open(\"data/source/production.json\"))\n",
    "qcl"
   ]
  },
  {
   "cell_type": "code",
   "execution_count": null,
   "metadata": {},
   "outputs": [],
   "source": [
    "# file qcl json is a list of datasets\n",
    "dataset = qcl.get(\"Datasets\").get(\"Dataset\")\n",
    "dataset[:3]"
   ]
  },
  {
   "cell_type": "code",
   "execution_count": null,
   "metadata": {},
   "outputs": [],
   "source": [
    "# convert to pandas dataframe\n",
    "df = pd.DataFrame(dataset)\n",
    "df.head()"
   ]
  },
  {
   "cell_type": "code",
   "execution_count": null,
   "metadata": {},
   "outputs": [],
   "source": [
    "# find qcl url\n",
    "production_url = df.loc[df.DatasetCode == \"QCL\"].FileLocation.values[0]\n",
    "production_url"
   ]
  },
  {
   "cell_type": "code",
   "execution_count": null,
   "metadata": {},
   "outputs": [],
   "source": [
    "# health check\n",
    "assert production_url == Urls.production_url"
   ]
  },
  {
   "cell_type": "code",
   "execution_count": null,
   "metadata": {},
   "outputs": [],
   "source": [
    "# curl qlc.zip\n",
    "runcmd(f\"curl --output ./data/source/production.zip '{Urls.production_url}'\")"
   ]
  },
  {
   "cell_type": "code",
   "execution_count": null,
   "metadata": {},
   "outputs": [],
   "source": [
    "# unzip the file\n",
    "runcmd(f\"unzip ./data/source/production.zip -d ./data/source/\")"
   ]
  },
  {
   "cell_type": "code",
   "execution_count": null,
   "metadata": {},
   "outputs": [],
   "source": [
    "# make data/source/production if it doesn't exist\n",
    "if not os.path.exists(\"data/source/production\"):\n",
    "    os.makedirs(\"data/source/production\")"
   ]
  },
  {
   "cell_type": "code",
   "execution_count": null,
   "metadata": {},
   "outputs": [],
   "source": [
    "# move production files to production folder\n",
    "runcmd(\"mv ./data/source/Pr* ./data/source/production/\")"
   ]
  },
  {
   "cell_type": "code",
   "execution_count": null,
   "metadata": {},
   "outputs": [],
   "source": [
    "# update filenames to lowercase\n",
    "path = \"data/source/production/\"\n",
    "pattern = \"Production_Crops_Livestock_E_All_\"\n",
    "\n",
    "for fn in os.listdir(path):\n",
    "    # clean filename\n",
    "    cleaned_fn = (\n",
    "        fn.replace(pattern, \"\")\n",
    "        .lower()\n",
    "        .replace(\"(\", \"\")\n",
    "        .replace(\")\", \"\")\n",
    "    )\n",
    "\n",
    "    # src and dst\n",
    "    src_ = os.path.join(path, fn)\n",
    "    dst_ = os.path.join(path, cleaned_fn)\n",
    "\n",
    "    # do rename\n",
    "    os.rename(src_, dst_)\n"
   ]
  },
  {
   "cell_type": "code",
   "execution_count": null,
   "metadata": {},
   "outputs": [],
   "source": [
    "os.listdir(\"data/source/production/\")"
   ]
  },
  {
   "cell_type": "code",
   "execution_count": null,
   "metadata": {},
   "outputs": [],
   "source": [
    "!rm -rf data/source/production.zip"
   ]
  },
  {
   "cell_type": "code",
   "execution_count": null,
   "metadata": {},
   "outputs": [],
   "source": [
    "!rm -rf data/source/production.json"
   ]
  },
  {
   "cell_type": "markdown",
   "metadata": {},
   "source": [
    "## Check Data Integrity"
   ]
  },
  {
   "cell_type": "code",
   "execution_count": null,
   "metadata": {},
   "outputs": [],
   "source": [
    "ext  = \".csv\"\n",
    "path = \"data/source\"\n",
    "\n",
    "for fn in os.listdir(path):\n",
    "\n",
    "    print(fn)\n",
    "\n",
    "    if not fn.endswith(ext):\n",
    "        continue\n",
    "\n",
    "    df = pd.read_csv(os.path.join(path, fn))\n",
    "    assert isinstance(df, pd.DataFrame)\n",
    "    assert df.shape[0] > 0\n",
    "    assert df.shape[1] > 0"
   ]
  },
  {
   "cell_type": "markdown",
   "metadata": {},
   "source": [
    "## ... or Just Use relevant classes"
   ]
  },
  {
   "cell_type": "code",
   "execution_count": 6,
   "metadata": {},
   "outputs": [],
   "source": [
    "from gbs.etl.extract import Extract"
   ]
  },
  {
   "cell_type": "code",
   "execution_count": 7,
   "metadata": {},
   "outputs": [],
   "source": [
    "extract = Extract()"
   ]
  },
  {
   "cell_type": "code",
   "execution_count": 1,
   "metadata": {},
   "outputs": [
    {
     "ename": "NameError",
     "evalue": "name 'extract' is not defined",
     "output_type": "error",
     "traceback": [
      "\u001b[0;31m---------------------------------------------------------------------------\u001b[0m",
      "\u001b[0;31mNameError\u001b[0m                                 Traceback (most recent call last)",
      "\u001b[1;32m/home/alex/tmp/Global-Biodiversity-Score/notebooks/00-Get-Data.ipynb Cell 36\u001b[0m line \u001b[0;36m1\n\u001b[0;32m----> <a href='vscode-notebook-cell:/home/alex/tmp/Global-Biodiversity-Score/notebooks/00-Get-Data.ipynb#Y120sZmlsZQ%3D%3D?line=0'>1</a>\u001b[0m extract\u001b[39m.\u001b[39m\u001b[39m__dict__\u001b[39m\n",
      "\u001b[0;31mNameError\u001b[0m: name 'extract' is not defined"
     ]
    }
   ],
   "source": [
    "extract.__dict__"
   ]
  },
  {
   "cell_type": "code",
   "execution_count": null,
   "metadata": {},
   "outputs": [],
   "source": [
    "extract.clean()"
   ]
  },
  {
   "cell_type": "code",
   "execution_count": 9,
   "metadata": {},
   "outputs": [],
   "source": [
    "extract.make_folders()"
   ]
  },
  {
   "cell_type": "code",
   "execution_count": 10,
   "metadata": {},
   "outputs": [
    {
     "name": "stderr",
     "output_type": "stream",
     "text": [
      "WARNING:root:std err :  --2024-01-16 02:01:12--  https://gist.githubusercontent.com/AlexandreGazagnes/f7b894285bc23b5b1c55981e35b29932/raw/91e7eb7cf95b85fe35799a52dfdd1be78403ff3b/crops.csv\n",
      "Resolving gist.githubusercontent.com (gist.githubusercontent.com)... 185.199.111.133, 185.199.110.133, 185.199.108.133, ...\n",
      "Connecting to gist.githubusercontent.com (gist.githubusercontent.com)|185.199.111.133|:443... connected.\n",
      "HTTP request sent, awaiting response... 200 OK\n",
      "Length: 41236 (40K) [text/plain]\n",
      "Saving to: ‘./data/source/crops.csv’\n",
      "\n",
      "     0K .......... .......... .......... ..........           100% 3,27M=0,01s\n",
      "\n",
      "2024-01-16 02:01:12 (3,27 MB/s) - ‘./data/source/crops.csv’ saved [41236/41236]\n"
     ]
    }
   ],
   "source": [
    "extract.get_crops()"
   ]
  },
  {
   "cell_type": "code",
   "execution_count": 11,
   "metadata": {},
   "outputs": [
    {
     "name": "stderr",
     "output_type": "stream",
     "text": [
      "WARNING:root:std err :  --2024-01-16 02:01:13--  https://gist.githubusercontent.com/AlexandreGazagnes/57eedb7f88d249f2d5bb85e525e55260/raw/1e559190503cc05f0e298ddddf74934acffb0efe/country_specs.csv\n",
      "Resolving gist.githubusercontent.com (gist.githubusercontent.com)... 185.199.109.133, 185.199.108.133, 185.199.110.133, ...\n",
      "Connecting to gist.githubusercontent.com (gist.githubusercontent.com)|185.199.109.133|:443... connected.\n",
      "HTTP request sent, awaiting response... 200 OK\n",
      "Length: 41236 (40K) [text/plain]\n",
      "Saving to: ‘./data/source/country_specs.csv’\n",
      "\n",
      "     0K .......... .......... .......... ..........           100% 3,58M=0,01s\n",
      "\n",
      "2024-01-16 02:01:14 (3,58 MB/s) - ‘./data/source/country_specs.csv’ saved [41236/41236]\n"
     ]
    }
   ],
   "source": [
    "extract.get_county_specs()"
   ]
  },
  {
   "cell_type": "code",
   "execution_count": 12,
   "metadata": {},
   "outputs": [
    {
     "name": "stderr",
     "output_type": "stream",
     "text": [
      "WARNING:root:std err :  % Total    % Received % Xferd  Average Speed   Time    Time     Time  Current\n",
      "                                 Dload  Upload   Total   Spent    Left  Speed\n",
      "\n",
      "  0     0    0     0    0     0      0      0 --:--:-- --:--:-- --:--:--     0\n",
      "  1 31.7M    1  367k    0     0  1118k      0  0:00:29 --:--:--  0:00:29 1119k\n",
      " 11 31.7M   11 3870k    0     0  3029k      0  0:00:10  0:00:01  0:00:09 3028k\n",
      " 22 31.7M   22 7178k    0     0  3152k      0  0:00:10  0:00:02  0:00:08 3152k\n",
      " 32 31.7M   32 10.2M    0     0  3203k      0  0:00:10  0:00:03  0:00:07 3203k\n",
      " 42 31.7M   42 13.4M    0     0  3228k      0  0:00:10  0:00:04  0:00:06 3228k\n",
      " 52 31.7M   52 16.7M    0     0  3244k      0  0:00:10  0:00:05  0:00:05 3385k\n",
      " 62 31.7M   62 19.9M    0     0  3254k      0  0:00:09  0:00:06  0:00:03 3312k\n",
      " 72 31.7M   72 23.1M    0     0  3263k      0  0:00:09  0:00:07  0:00:02 3313k\n",
      " 83 31.7M   83 26.4M    0     0  3268k      0  0:00:09  0:00:08  0:00:01 3312k\n",
      " 93 31.7M   93 29.6M    0     0  3273k      0  0:00:09  0:00:09 --:--:-- 3311k\n",
      "100 31.7M  100 31.7M    0     0  3277k      0  0:00:09  0:00:09 --:--:-- 3314k\n",
      "WARNING:root:std out :  Archive:  ./data/source/production.zip\n",
      "  inflating: ./data/source/Production_Crops_Livestock_E_All_Data_(Normalized).csv  \n",
      "  inflating: ./data/source/Production_Crops_Livestock_E_AreaCodes.csv  \n",
      "  inflating: ./data/source/Production_Crops_Livestock_E_Flags.csv  \n",
      "  inflating: ./data/source/Production_Crops_Livestock_E_ItemCodes.csv\n"
     ]
    }
   ],
   "source": [
    "extract.get_production()"
   ]
  },
  {
   "cell_type": "code",
   "execution_count": null,
   "metadata": {},
   "outputs": [],
   "source": []
  },
  {
   "cell_type": "code",
   "execution_count": null,
   "metadata": {},
   "outputs": [],
   "source": []
  }
 ],
 "metadata": {
  "kernelspec": {
   "display_name": ".venv",
   "language": "python",
   "name": "python3"
  },
  "language_info": {
   "codemirror_mode": {
    "name": "ipython",
    "version": 3
   },
   "file_extension": ".py",
   "mimetype": "text/x-python",
   "name": "python",
   "nbconvert_exporter": "python",
   "pygments_lexer": "ipython3",
   "version": "3.10.12"
  }
 },
 "nbformat": 4,
 "nbformat_minor": 2
}
