{
 "cells": [
  {
   "cell_type": "markdown",
   "metadata": {},
   "source": [
    "# 00-Get-Data"
   ]
  },
  {
   "cell_type": "markdown",
   "metadata": {},
   "source": [
    "Just find the data and download it."
   ]
  },
  {
   "cell_type": "markdown",
   "metadata": {},
   "source": [
    "## System"
   ]
  },
  {
   "cell_type": "code",
   "execution_count": 1,
   "metadata": {},
   "outputs": [
    {
     "name": "stdout",
     "output_type": "stream",
     "text": [
      "/home/alex/tmp/Global-Biodiversity-Score\n"
     ]
    }
   ],
   "source": [
    "cd ../"
   ]
  },
  {
   "cell_type": "code",
   "execution_count": 2,
   "metadata": {},
   "outputs": [
    {
     "name": "stdout",
     "output_type": "stream",
     "text": [
      "/home/alex/tmp/Global-Biodiversity-Score\n"
     ]
    }
   ],
   "source": [
    "!pwd"
   ]
  },
  {
   "cell_type": "markdown",
   "metadata": {},
   "source": [
    "## Imports "
   ]
  },
  {
   "cell_type": "code",
   "execution_count": 3,
   "metadata": {},
   "outputs": [],
   "source": [
    "# built in modules\n",
    "import os\n",
    "import json"
   ]
  },
  {
   "cell_type": "code",
   "execution_count": 4,
   "metadata": {},
   "outputs": [],
   "source": [
    "# third party modules\n",
    "import pandas as pd"
   ]
  },
  {
   "cell_type": "code",
   "execution_count": 5,
   "metadata": {},
   "outputs": [],
   "source": [
    "# custom modules\n",
    "from gbs.etl.urls import Urls\n",
    "from gbs.helpers import runcmd\n",
    "# from gbs.etl.extract import Extract"
   ]
  },
  {
   "cell_type": "markdown",
   "metadata": {},
   "source": [
    "## Build Data Directories"
   ]
  },
  {
   "cell_type": "code",
   "execution_count": 6,
   "metadata": {},
   "outputs": [],
   "source": [
    "# make data/ directory if it doesn't exist\n",
    "if not os.path.exists(\"data\"):\n",
    "    os.makedirs(\"data\")"
   ]
  },
  {
   "cell_type": "code",
   "execution_count": 7,
   "metadata": {},
   "outputs": [],
   "source": [
    "# make subdirectories if they don't exist\n",
    "folder_list = [\"source\", \"tmp\", \"final\"]\n",
    "for folder in folder_list:\n",
    "    if not os.path.exists(f\"data/{folder}\"):\n",
    "        os.makedirs(f\"data/{folder}\")"
   ]
  },
  {
   "cell_type": "code",
   "execution_count": 8,
   "metadata": {},
   "outputs": [],
   "source": [
    "# make subdirectories if they don't exist\n",
    "sub_folders = [\"crops\", \"country_specs\", \"gdp\", \"population\", \"production\"]\n",
    "for folder in sub_folders:\n",
    "    if not os.path.exists(f\"data/source/{folder}\"):\n",
    "        os.makedirs(f\"data/source/{folder}\")"
   ]
  },
  {
   "cell_type": "markdown",
   "metadata": {},
   "source": [
    "## Download Data"
   ]
  },
  {
   "cell_type": "markdown",
   "metadata": {},
   "source": [
    "### Crops"
   ]
  },
  {
   "cell_type": "code",
   "execution_count": 9,
   "metadata": {},
   "outputs": [
    {
     "name": "stderr",
     "output_type": "stream",
     "text": [
      "WARNING:root:std err :  --2024-01-19 03:02:21--  https://gist.githubusercontent.com/AlexandreGazagnes/e47b986ad139b70d03735bd0ebb9e295/raw/c88ff0a9cc114e60b81deb1578389a1599c67a4b/crops.csv\n",
      "Resolving gist.githubusercontent.com (gist.githubusercontent.com)... 185.199.109.133, 185.199.110.133, 185.199.111.133, ...\n",
      "Connecting to gist.githubusercontent.com (gist.githubusercontent.com)|185.199.109.133|:443... connected.\n",
      "HTTP request sent, awaiting response... 200 OK\n",
      "Length: 794666 (776K) [text/plain]\n",
      "Saving to: ‘data/source/crops/crops.csv’\n",
      "\n",
      "     0K .......... .......... .......... .......... ..........  6% 1,23M 1s\n",
      "    50K .......... .......... .......... .......... .......... 12% 3,59M 0s\n",
      "   100K .......... .......... .......... .......... .......... 19% 3,39M 0s\n",
      "   150K .......... .......... .......... .......... .......... 25%  919K 0s\n",
      "   200K .......... .......... .......... .......... .......... 32%  199M 0s\n",
      "   250K .......... .......... .......... .......... .......... 38% 2,51M 0s\n",
      "   300K .......... .......... .......... .......... .......... 45%  193M 0s\n",
      "   350K .......... .......... .......... .......... .......... 51% 3,44M 0s\n",
      "   400K .......... .......... .......... .......... .......... 57% 4,09M 0s\n",
      "   450K .......... .......... .......... .......... .......... 64% 9,34M 0s\n",
      "   500K .......... .......... .......... .......... .......... 70% 3,65M 0s\n",
      "   550K .......... .......... .......... .......... .......... 77% 3,80M 0s\n",
      "   600K .......... .......... .......... .......... .......... 83% 3,35M 0s\n",
      "   650K .......... .......... .......... .......... .......... 90% 2,62M 0s\n",
      "   700K .......... .......... .......... .......... .......... 96% 3,52M 0s\n",
      "   750K .......... .......... ......                          100% 5,83M=0,3s\n",
      "\n",
      "2024-01-19 03:02:21 (3,02 MB/s) - ‘data/source/crops/crops.csv’ saved [794666/794666]\n"
     ]
    },
    {
     "data": {
      "text/plain": [
       "('',\n",
       " '--2024-01-19 03:02:21--  https://gist.githubusercontent.com/AlexandreGazagnes/e47b986ad139b70d03735bd0ebb9e295/raw/c88ff0a9cc114e60b81deb1578389a1599c67a4b/crops.csv\\nResolving gist.githubusercontent.com (gist.githubusercontent.com)... 185.199.109.133, 185.199.110.133, 185.199.111.133, ...\\nConnecting to gist.githubusercontent.com (gist.githubusercontent.com)|185.199.109.133|:443... connected.\\nHTTP request sent, awaiting response... 200 OK\\nLength: 794666 (776K) [text/plain]\\nSaving to: ‘data/source/crops/crops.csv’\\n\\n     0K .......... .......... .......... .......... ..........  6% 1,23M 1s\\n    50K .......... .......... .......... .......... .......... 12% 3,59M 0s\\n   100K .......... .......... .......... .......... .......... 19% 3,39M 0s\\n   150K .......... .......... .......... .......... .......... 25%  919K 0s\\n   200K .......... .......... .......... .......... .......... 32%  199M 0s\\n   250K .......... .......... .......... .......... .......... 38% 2,51M 0s\\n   300K .......... .......... .......... .......... .......... 45%  193M 0s\\n   350K .......... .......... .......... .......... .......... 51% 3,44M 0s\\n   400K .......... .......... .......... .......... .......... 57% 4,09M 0s\\n   450K .......... .......... .......... .......... .......... 64% 9,34M 0s\\n   500K .......... .......... .......... .......... .......... 70% 3,65M 0s\\n   550K .......... .......... .......... .......... .......... 77% 3,80M 0s\\n   600K .......... .......... .......... .......... .......... 83% 3,35M 0s\\n   650K .......... .......... .......... .......... .......... 90% 2,62M 0s\\n   700K .......... .......... .......... .......... .......... 96% 3,52M 0s\\n   750K .......... .......... ......                          100% 5,83M=0,3s\\n\\n2024-01-19 03:02:21 (3,02 MB/s) - ‘data/source/crops/crops.csv’ saved [794666/794666]\\n\\n')"
      ]
     },
     "execution_count": 9,
     "metadata": {},
     "output_type": "execute_result"
    }
   ],
   "source": [
    "# download crops\n",
    "runcmd(\"wget -O data/source/crops/crops.csv \" + Urls.crops)"
   ]
  },
  {
   "cell_type": "markdown",
   "metadata": {},
   "source": [
    "### Country Specs"
   ]
  },
  {
   "cell_type": "code",
   "execution_count": 10,
   "metadata": {},
   "outputs": [
    {
     "name": "stderr",
     "output_type": "stream",
     "text": [
      "WARNING:root:std err :  --2024-01-19 03:02:21--  https://gist.githubusercontent.com/AlexandreGazagnes/57eedb7f88d249f2d5bb85e525e55260/raw/1e559190503cc05f0e298ddddf74934acffb0efe/country_specs.csv\n",
      "Resolving gist.githubusercontent.com (gist.githubusercontent.com)... 185.199.109.133, 185.199.110.133, 185.199.108.133, ...\n",
      "Connecting to gist.githubusercontent.com (gist.githubusercontent.com)|185.199.109.133|:443... connected.\n",
      "HTTP request sent, awaiting response... 200 OK\n",
      "Length: 41236 (40K) [text/plain]\n",
      "Saving to: ‘data/source/country_specs/country_specs.csv’\n",
      "\n",
      "     0K .......... .......... .......... ..........           100% 3,90M=0,01s\n",
      "\n",
      "2024-01-19 03:02:22 (3,90 MB/s) - ‘data/source/country_specs/country_specs.csv’ saved [41236/41236]\n"
     ]
    },
    {
     "data": {
      "text/plain": [
       "('',\n",
       " '--2024-01-19 03:02:21--  https://gist.githubusercontent.com/AlexandreGazagnes/57eedb7f88d249f2d5bb85e525e55260/raw/1e559190503cc05f0e298ddddf74934acffb0efe/country_specs.csv\\nResolving gist.githubusercontent.com (gist.githubusercontent.com)... 185.199.109.133, 185.199.110.133, 185.199.108.133, ...\\nConnecting to gist.githubusercontent.com (gist.githubusercontent.com)|185.199.109.133|:443... connected.\\nHTTP request sent, awaiting response... 200 OK\\nLength: 41236 (40K) [text/plain]\\nSaving to: ‘data/source/country_specs/country_specs.csv’\\n\\n     0K .......... .......... .......... ..........           100% 3,90M=0,01s\\n\\n2024-01-19 03:02:22 (3,90 MB/s) - ‘data/source/country_specs/country_specs.csv’ saved [41236/41236]\\n\\n')"
      ]
     },
     "execution_count": 10,
     "metadata": {},
     "output_type": "execute_result"
    }
   ],
   "source": [
    "# download countries specs\n",
    "runcmd(\n",
    "    \"wget -O data/source/country_specs/country_specs.csv \"\n",
    "    + Urls.country_specs\n",
    ")"
   ]
  },
  {
   "cell_type": "markdown",
   "metadata": {},
   "source": [
    "### Production"
   ]
  },
  {
   "cell_type": "code",
   "execution_count": 11,
   "metadata": {},
   "outputs": [
    {
     "name": "stderr",
     "output_type": "stream",
     "text": [
      "WARNING:root:std err :  % Total    % Received % Xferd  Average Speed   Time    Time     Time  Current\n",
      "                                 Dload  Upload   Total   Spent    Left  Speed\n",
      "\n",
      "  0     0    0     0    0     0      0      0 --:--:-- --:--:-- --:--:--     0\n",
      "  1 31.7M    1  559k    0     0  1514k      0  0:00:21 --:--:--  0:00:21 1513k\n",
      " 12 31.7M   12 4038k    0     0  2996k      0  0:00:10  0:00:01  0:00:09 2995k\n",
      " 22 31.7M   22 7430k    0     0  3164k      0  0:00:10  0:00:02  0:00:08 3164k\n",
      " 33 31.7M   33 10.5M    0     0  3209k      0  0:00:10  0:00:03  0:00:07 3209k\n",
      " 43 31.7M   43 13.7M    0     0  3232k      0  0:00:10  0:00:04  0:00:06 3231k\n",
      " 51 31.7M   51 16.5M    0     0  3157k      0  0:00:10  0:00:05  0:00:05 3278k\n",
      " 62 31.7M   62 19.7M    0     0  3192k      0  0:00:10  0:00:06  0:00:04 3244k\n",
      " 72 31.7M   72 23.1M    0     0  3219k      0  0:00:10  0:00:07  0:00:03 3245k\n",
      " 83 31.7M   83 26.4M    0     0  3240k      0  0:00:10  0:00:08  0:00:02 3261k\n",
      " 93 31.7M   93 29.7M    0     0  3256k      0  0:00:09  0:00:09 --:--:-- 3276k\n",
      " 99 31.7M   99 31.6M    0     0  3131k      0  0:00:10  0:00:10 --:--:-- 3103k\n",
      "100 31.7M  100 31.7M    0     0  3133k      0  0:00:10  0:00:10 --:--:-- 3041k\n"
     ]
    },
    {
     "data": {
      "text/plain": [
       "('',\n",
       " '  % Total    % Received % Xferd  Average Speed   Time    Time     Time  Current\\n                                 Dload  Upload   Total   Spent    Left  Speed\\n\\n  0     0    0     0    0     0      0      0 --:--:-- --:--:-- --:--:--     0\\n  1 31.7M    1  559k    0     0  1514k      0  0:00:21 --:--:--  0:00:21 1513k\\n 12 31.7M   12 4038k    0     0  2996k      0  0:00:10  0:00:01  0:00:09 2995k\\n 22 31.7M   22 7430k    0     0  3164k      0  0:00:10  0:00:02  0:00:08 3164k\\n 33 31.7M   33 10.5M    0     0  3209k      0  0:00:10  0:00:03  0:00:07 3209k\\n 43 31.7M   43 13.7M    0     0  3232k      0  0:00:10  0:00:04  0:00:06 3231k\\n 51 31.7M   51 16.5M    0     0  3157k      0  0:00:10  0:00:05  0:00:05 3278k\\n 62 31.7M   62 19.7M    0     0  3192k      0  0:00:10  0:00:06  0:00:04 3244k\\n 72 31.7M   72 23.1M    0     0  3219k      0  0:00:10  0:00:07  0:00:03 3245k\\n 83 31.7M   83 26.4M    0     0  3240k      0  0:00:10  0:00:08  0:00:02 3261k\\n 93 31.7M   93 29.7M    0     0  3256k      0  0:00:09  0:00:09 --:--:-- 3276k\\n 99 31.7M   99 31.6M    0     0  3131k      0  0:00:10  0:00:10 --:--:-- 3103k\\n100 31.7M  100 31.7M    0     0  3133k      0  0:00:10  0:00:10 --:--:-- 3041k\\n')"
      ]
     },
     "execution_count": 11,
     "metadata": {},
     "output_type": "execute_result"
    }
   ],
   "source": [
    "# curl qlc.zip\n",
    "runcmd(\n",
    "    f\"curl --output ./data/source/production/production.zip '{Urls.production}'\"\n",
    ")"
   ]
  },
  {
   "cell_type": "markdown",
   "metadata": {},
   "source": [
    "### GDP"
   ]
  },
  {
   "cell_type": "code",
   "execution_count": 12,
   "metadata": {},
   "outputs": [
    {
     "name": "stderr",
     "output_type": "stream",
     "text": [
      "WARNING:root:std err :  % Total    % Received % Xferd  Average Speed   Time    Time     Time  Current\n",
      "                                 Dload  Upload   Total   Spent    Left  Speed\n",
      "\n",
      "  0     0    0     0    0     0      0      0 --:--:-- --:--:-- --:--:--     0\n",
      " 73  129k   73 97864    0     0  99123      0  0:00:01 --:--:--  0:00:01 99052\n",
      "100  129k  100  129k    0     0   130k      0 --:--:-- --:--:-- --:--:--  130k\n"
     ]
    },
    {
     "data": {
      "text/plain": [
       "('',\n",
       " '  % Total    % Received % Xferd  Average Speed   Time    Time     Time  Current\\n                                 Dload  Upload   Total   Spent    Left  Speed\\n\\n  0     0    0     0    0     0      0      0 --:--:-- --:--:-- --:--:--     0\\n 73  129k   73 97864    0     0  99123      0  0:00:01 --:--:--  0:00:01 99052\\n100  129k  100  129k    0     0   130k      0 --:--:-- --:--:-- --:--:--  130k\\n')"
      ]
     },
     "execution_count": 12,
     "metadata": {},
     "output_type": "execute_result"
    }
   ],
   "source": [
    "# curl qlc.zip\n",
    "runcmd(\n",
    "    f\"curl --output ./data/source/gdp/gdp.zip '{Urls.gdp}'\"\n",
    ")"
   ]
  },
  {
   "cell_type": "markdown",
   "metadata": {},
   "source": [
    "### Population"
   ]
  },
  {
   "cell_type": "code",
   "execution_count": 13,
   "metadata": {},
   "outputs": [
    {
     "name": "stderr",
     "output_type": "stream",
     "text": [
      "WARNING:root:std err :  % Total    % Received % Xferd  Average Speed   Time    Time     Time  Current\n",
      "                                 Dload  Upload   Total   Spent    Left  Speed\n",
      "\n",
      "  0     0    0     0    0     0      0      0 --:--:-- --:--:-- --:--:--     0\n",
      " 56 85964   56 48709    0     0  50439      0  0:00:01 --:--:--  0:00:01 50423\n",
      "100 85964  100 85964    0     0  80737      0  0:00:01  0:00:01 --:--:-- 80793\n"
     ]
    },
    {
     "data": {
      "text/plain": [
       "('',\n",
       " '  % Total    % Received % Xferd  Average Speed   Time    Time     Time  Current\\n                                 Dload  Upload   Total   Spent    Left  Speed\\n\\n  0     0    0     0    0     0      0      0 --:--:-- --:--:-- --:--:--     0\\n 56 85964   56 48709    0     0  50439      0  0:00:01 --:--:--  0:00:01 50423\\n100 85964  100 85964    0     0  80737      0  0:00:01  0:00:01 --:--:-- 80793\\n')"
      ]
     },
     "execution_count": 13,
     "metadata": {},
     "output_type": "execute_result"
    }
   ],
   "source": [
    "# curl pip.zip\n",
    "runcmd(f\"curl --output ./data/source/population/population.zip '{Urls.population}'\")"
   ]
  },
  {
   "cell_type": "markdown",
   "metadata": {},
   "source": [
    "## Manage Files"
   ]
  },
  {
   "cell_type": "markdown",
   "metadata": {},
   "source": [
    "### Production"
   ]
  },
  {
   "cell_type": "code",
   "execution_count": 14,
   "metadata": {},
   "outputs": [
    {
     "name": "stderr",
     "output_type": "stream",
     "text": [
      "WARNING:root:std out :  Archive:  ./data/source/production/production.zip\n",
      "  inflating: ./data/source/production/Production_Crops_Livestock_E_All_Data_(Normalized).csv  \n",
      "  inflating: ./data/source/production/Production_Crops_Livestock_E_AreaCodes.csv  \n",
      "  inflating: ./data/source/production/Production_Crops_Livestock_E_Flags.csv  \n",
      "  inflating: ./data/source/production/Production_Crops_Livestock_E_ItemCodes.csv\n"
     ]
    },
    {
     "data": {
      "text/plain": [
       "('Archive:  ./data/source/production/production.zip\\n  inflating: ./data/source/production/Production_Crops_Livestock_E_All_Data_(Normalized).csv  \\n  inflating: ./data/source/production/Production_Crops_Livestock_E_AreaCodes.csv  \\n  inflating: ./data/source/production/Production_Crops_Livestock_E_Flags.csv  \\n  inflating: ./data/source/production/Production_Crops_Livestock_E_ItemCodes.csv  \\n',\n",
       " '')"
      ]
     },
     "execution_count": 14,
     "metadata": {},
     "output_type": "execute_result"
    }
   ],
   "source": [
    "# unzip the file\n",
    "runcmd(\n",
    "    f\"unzip ./data/source/production/production.zip -d ./data/source/production\"\n",
    ")"
   ]
  },
  {
   "cell_type": "code",
   "execution_count": 15,
   "metadata": {},
   "outputs": [],
   "source": [
    "# update filenames to lowercase\n",
    "path = \"data/source/production/\"\n",
    "pattern = \"Production_Crops_Livestock_E_All_\"\n",
    "\n",
    "for fn in os.listdir(path):\n",
    "    # clean filename\n",
    "    cleaned_fn = (\n",
    "        fn.replace(pattern, \"\").lower().replace(\"(\", \"\").replace(\")\", \"\")\n",
    "    )\n",
    "\n",
    "    # src and dst\n",
    "    src_ = os.path.join(path, fn)\n",
    "    dst_ = os.path.join(path, cleaned_fn.replace(pattern.lower(), \"\"))\n",
    "\n",
    "    # do rename\n",
    "    os.rename(src_, dst_)"
   ]
  },
  {
   "cell_type": "code",
   "execution_count": 16,
   "metadata": {},
   "outputs": [
    {
     "data": {
      "text/plain": [
       "['.gitkeep',\n",
       " 'production_crops_livestock_e_flags.csv',\n",
       " 'production_crops_livestock_e_itemcodes.csv',\n",
       " 'data_normalized.csv',\n",
       " 'production_crops_livestock_e_areacodes.csv',\n",
       " 'production.zip']"
      ]
     },
     "execution_count": 16,
     "metadata": {},
     "output_type": "execute_result"
    }
   ],
   "source": [
    "os.listdir(\"data/source/production/\")"
   ]
  },
  {
   "cell_type": "code",
   "execution_count": 17,
   "metadata": {},
   "outputs": [],
   "source": [
    "# !rm -rf data/source/production/production.zip"
   ]
  },
  {
   "cell_type": "markdown",
   "metadata": {},
   "source": [
    "### GDP & Popuplation"
   ]
  },
  {
   "cell_type": "code",
   "execution_count": 18,
   "metadata": {},
   "outputs": [
    {
     "name": "stderr",
     "output_type": "stream",
     "text": [
      "WARNING:root:std out :  Archive:  ./data/source/population/population.zip\n",
      "  inflating: ./data/source/population/Metadata_Indicator_API_SP.POP.TOTL_DS2_en_csv_v2_6298256.csv  \n",
      "  inflating: ./data/source/population/API_SP.POP.TOTL_DS2_en_csv_v2_6298256.csv  \n",
      "  inflating: ./data/source/population/Metadata_Country_API_SP.POP.TOTL_DS2_en_csv_v2_6298256.csv\n"
     ]
    },
    {
     "data": {
      "text/plain": [
       "('Archive:  ./data/source/population/population.zip\\n  inflating: ./data/source/population/Metadata_Indicator_API_SP.POP.TOTL_DS2_en_csv_v2_6298256.csv  \\n  inflating: ./data/source/population/API_SP.POP.TOTL_DS2_en_csv_v2_6298256.csv  \\n  inflating: ./data/source/population/Metadata_Country_API_SP.POP.TOTL_DS2_en_csv_v2_6298256.csv  \\n',\n",
       " '')"
      ]
     },
     "execution_count": 18,
     "metadata": {},
     "output_type": "execute_result"
    }
   ],
   "source": [
    "# unzip the file\n",
    "runcmd(f\"unzip ./data/source/population/population.zip -d ./data/source/population\")"
   ]
  },
  {
   "cell_type": "code",
   "execution_count": 19,
   "metadata": {},
   "outputs": [
    {
     "name": "stderr",
     "output_type": "stream",
     "text": [
      "WARNING:root:std out :  Archive:  ./data/source/gdp/gdp.zip\n",
      "  inflating: ./data/source/gdp/Metadata_Indicator_API_NY.GDP.PCAP.CD_DS2_en_csv_v2_6298251.csv  \n",
      "  inflating: ./data/source/gdp/API_NY.GDP.PCAP.CD_DS2_en_csv_v2_6298251.csv  \n",
      "  inflating: ./data/source/gdp/Metadata_Country_API_NY.GDP.PCAP.CD_DS2_en_csv_v2_6298251.csv\n"
     ]
    },
    {
     "data": {
      "text/plain": [
       "('Archive:  ./data/source/gdp/gdp.zip\\n  inflating: ./data/source/gdp/Metadata_Indicator_API_NY.GDP.PCAP.CD_DS2_en_csv_v2_6298251.csv  \\n  inflating: ./data/source/gdp/API_NY.GDP.PCAP.CD_DS2_en_csv_v2_6298251.csv  \\n  inflating: ./data/source/gdp/Metadata_Country_API_NY.GDP.PCAP.CD_DS2_en_csv_v2_6298251.csv  \\n',\n",
       " '')"
      ]
     },
     "execution_count": 19,
     "metadata": {},
     "output_type": "execute_result"
    }
   ],
   "source": [
    "# unzip the file\n",
    "runcmd(\n",
    "    f\"unzip ./data/source/gdp/gdp.zip -d ./data/source/gdp\"\n",
    ")"
   ]
  },
  {
   "cell_type": "markdown",
   "metadata": {},
   "source": [
    "## Check Data Integrity"
   ]
  },
  {
   "cell_type": "markdown",
   "metadata": {},
   "source": [
    "### Crops and country specs"
   ]
  },
  {
   "cell_type": "code",
   "execution_count": 20,
   "metadata": {},
   "outputs": [
    {
     "name": "stdout",
     "output_type": "stream",
     "text": [
      "crops.csv\n",
      "country_specs.csv\n"
     ]
    }
   ],
   "source": [
    "ext = \".csv\"\n",
    "base = \"data/source/\"\n",
    "\n",
    "folders = [\"crops\", \"country_specs\"]\n",
    "\n",
    "\n",
    "for folder in folders : \n",
    "    path = os.path.join(base, folder)\n",
    "\n",
    "    for fn in os.listdir(path):\n",
    "\n",
    "        if not fn.endswith(ext):\n",
    "            continue\n",
    "\n",
    "        print(fn)\n",
    "\n",
    "        df = pd.read_csv(os.path.join(path, fn))\n",
    "        assert isinstance(df, pd.DataFrame)\n",
    "        assert df.shape[0] > 0\n",
    "        assert df.shape[1] > 0"
   ]
  },
  {
   "cell_type": "markdown",
   "metadata": {},
   "source": [
    "### Population and Gdp"
   ]
  },
  {
   "cell_type": "code",
   "execution_count": 22,
   "metadata": {},
   "outputs": [
    {
     "name": "stdout",
     "output_type": "stream",
     "text": [
      "API_SP.POP.TOTL_DS2_en_csv_v2_6298256.csv\n",
      "API_NY.GDP.PCAP.CD_DS2_en_csv_v2_6298251.csv\n"
     ]
    }
   ],
   "source": [
    "ext = \".csv\"\n",
    "base = \"data/source/\"\n",
    "\n",
    "folders = [\"population\", \"gdp\"]\n",
    "\n",
    "for folder in folders : \n",
    "    path = os.path.join(base, folder)\n",
    "\n",
    "    fn = [i for i in os.listdir(path) if i.startswith(\"API\")][0]\n",
    "    print(fn)\n",
    "\n",
    "\n",
    "    with open(os.path.join(path, fn)) as f:\n",
    "        txt  = f.readlines()\n",
    "    \n",
    "    txt = txt[4:]\n",
    "    \n",
    "    with open(os.path.join(path, fn), \"w\") as f:\n",
    "        f.writelines(txt)\n"
   ]
  },
  {
   "cell_type": "code",
   "execution_count": 25,
   "metadata": {},
   "outputs": [
    {
     "name": "stdout",
     "output_type": "stream",
     "text": [
      "API_SP.POP.TOTL_DS2_en_csv_v2_6298256.csv\n",
      "API_NY.GDP.PCAP.CD_DS2_en_csv_v2_6298251.csv\n"
     ]
    }
   ],
   "source": [
    "ext = \".csv\"\n",
    "base = \"data/source/\"\n",
    "\n",
    "folders = [\"population\", \"gdp\"]\n",
    "\n",
    "for folder in folders:\n",
    "    path = os.path.join(base, folder)\n",
    "    fn = [i for i in os.listdir(path) if i.startswith(\"API\")][0]\n",
    "\n",
    "    print(fn)\n",
    "\n",
    "    df = pd.read_csv(os.path.join(path, fn), encoding=\"latin-1\")\n",
    "\n",
    "    assert isinstance(df, pd.DataFrame)\n",
    "    assert df.shape[0] > 0\n",
    "    assert df.shape[1] > 0\n",
    "    df.to_csv(os.path.join(path, fn), index=False, encoding=\"utf-8\")"
   ]
  },
  {
   "cell_type": "markdown",
   "metadata": {},
   "source": [
    "### Production"
   ]
  },
  {
   "cell_type": "code",
   "execution_count": 28,
   "metadata": {},
   "outputs": [
    {
     "name": "stdout",
     "output_type": "stream",
     "text": [
      "production_crops_livestock_e_flags.csv\n",
      "production_crops_livestock_e_itemcodes.csv\n",
      "data_normalized.csv\n"
     ]
    },
    {
     "name": "stderr",
     "output_type": "stream",
     "text": [
      "/tmp/ipykernel_210480/2300471426.py:10: DtypeWarning: Columns (13) have mixed types. Specify dtype option on import or set low_memory=False.\n",
      "  df = pd.read_csv(os.path.join(base, fn), encoding=\"latin-1\")\n"
     ]
    },
    {
     "name": "stdout",
     "output_type": "stream",
     "text": [
      "production_crops_livestock_e_areacodes.csv\n"
     ]
    }
   ],
   "source": [
    "ext = \".csv\"\n",
    "base = \"data/source/production/\"\n",
    "\n",
    "for fn in os.listdir(base):\n",
    "    if not fn.endswith(ext):\n",
    "        continue\n",
    "\n",
    "    print(fn)\n",
    "\n",
    "    df = pd.read_csv(os.path.join(base, fn), encoding=\"latin-1\")\n",
    "    assert isinstance(df, pd.DataFrame)\n",
    "    assert df.shape[0] > 0\n",
    "    assert df.shape[1] > 0\n",
    "    df.to_csv(os.path.join(base, fn), encoding=\"utf-8\", index=False)"
   ]
  }
 ],
 "metadata": {
  "kernelspec": {
   "display_name": ".venv",
   "language": "python",
   "name": "python3"
  },
  "language_info": {
   "codemirror_mode": {
    "name": "ipython",
    "version": 3
   },
   "file_extension": ".py",
   "mimetype": "text/x-python",
   "name": "python",
   "nbconvert_exporter": "python",
   "pygments_lexer": "ipython3",
   "version": "3.10.12"
  }
 },
 "nbformat": 4,
 "nbformat_minor": 2
}
